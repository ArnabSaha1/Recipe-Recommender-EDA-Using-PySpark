{
 "cells": [
  {
   "cell_type": "markdown",
   "id": "b17a4840",
   "metadata": {
    "id": "b17a4840"
   },
   "source": [
    "# Recipe Recommender Assignment EDA - Using Pyspark"
   ]
  },
  {
   "cell_type": "markdown",
   "id": "1c1cbba8",
   "metadata": {
    "id": "1c1cbba8"
   },
   "source": [
    "## Problem Statement\n",
    "\n",
    "As an ML engineer working at `food.com`. Your job is to design a recommender system to recommend recipes to users based on their choice and the current recipe they are looking at.\n",
    "\n",
    "The recommendation engine is a way to increase the website's user engagement. If a user is shown relevant recipes, they are more likely to spend more time on your site reading about recipes. Higher user engagement will likely result in more business opportunities like collaborations, promotions, etc.\n",
    "\n",
    "The performance of a recommendation engine will significantly impact the revenue your recipe site can generate.\n",
    "\n",
    "## Objective\n",
    "\n",
    "Designing a recommender from scratch is a time-consuming task.  In this assignment, we explored the data and created features that will be used to build the recommender.\n",
    "\n",
    "## Dataset\n",
    "\n",
    "1. __raw recipe data:__\n",
    "   - https://raw-recipes-clean-upgrad.s3.amazonaws.com/RAW_recipes_cleaned.csv\n",
    "\n",
    "2. __raw ratings data:__\n",
    "   - https://raw-interactions-upgrad.s3.amazonaws.com/RAW_interactions_cleaned.csv\n",
    "\n",
    "The first file is the Raw_recipes.csv file. It contains all the recipe-related information. Each row in this file describes a recipe. The second file we will be using is the RAW_interactions.csv. Each row in this data file is one user reviewing one recipe. One user can review more than one recipe, and each recipe can be reviewed by more than one user, so there is a many-to-many relationship between users and recipes, but the combination of user_id and reviewer_id in each row will be unique.\n",
    "\n",
    "## Steps\n",
    "This assignment consists of two major parts to perform the feature extraction and EDA from the raw datasets. These parts and its correspondings steps are broadly as mentioned below:\n",
    "- __Part 1: Recipe Based Feature Extraction & EDA__\n",
    "  - Task 01: Reading the first data file.\n",
    "  - Task 02: Extract individual features from the nutrition column.\n",
    "  - Task 03: Standardize the nutrition values.\n",
    "  - Task 04: Convert the tags column from a string to an array of strings.\n",
    "  - Task 05: Read the second data file.\n",
    "  - Task 06: Create time-based features.\n",
    "  - Task 07: Processing Numerical Columns and Visualising.\n",
    "- __Part 2: User Based Feature Extration & EDA__\n",
    "  - Task 08: Create user-level features.\n",
    "  - Task 09: Create tag-level features and perform EDA.\n",
    "- __Part 3: Summary Analysis Report__\n",
    "  - Summary Report."
   ]
  },
  {
   "cell_type": "markdown",
   "id": "32b6a652",
   "metadata": {
    "id": "32b6a652"
   },
   "source": [
    "## Part 1: Recipe Based Feature Extraction & EDA\n",
    "\n",
    "The first approach to EDA is to cover all possibilities for all columns. For instance, consider the submitted column. It has the date on which the user submitted a given recipe.\n",
    "\n",
    "- You can use the current date to find the time duration that the recipe has been on your site.\n",
    "- You can also check if there is any correlation between the time period on the website and the average ratings a recipe gets.\n",
    "- If you subtract the submitted date from the review date, you will get a feature to measure the recipe's newness at the moment a user reviews it.\n",
    "\n",
    "These are just a few possibilities. Once you have all the possibilities you want to explore, use your domain knowledge to prioritize. Keep the features you think will help decide the rating of a recipe."
   ]
  },
  {
   "cell_type": "markdown",
   "id": "640bd3f7",
   "metadata": {
    "id": "640bd3f7"
   },
   "source": [
    "## Initial Setup"
   ]
  },
  {
   "cell_type": "code",
   "execution_count": 1,
   "id": "TpatSf4RG2Vc",
   "metadata": {
    "colab": {
     "base_uri": "https://localhost:8080/"
    },
    "id": "TpatSf4RG2Vc",
    "outputId": "567a8636-6131-4b84-dfe9-87ba1bb8e022"
   },
   "outputs": [
    {
     "name": "stdout",
     "output_type": "stream",
     "text": [
      "Collecting pyspark\n",
      "  Downloading pyspark-3.5.1.tar.gz (317.0 MB)\n",
      "\u001b[2K     \u001b[90m━━━━━━━━━━━━━━━━━━━━━━━━━━━━━━━━━━━━━━━━\u001b[0m \u001b[32m317.0/317.0 MB\u001b[0m \u001b[31m2.7 MB/s\u001b[0m eta \u001b[36m0:00:00\u001b[0m\n",
      "\u001b[?25h  Preparing metadata (setup.py) ... \u001b[?25l\u001b[?25hdone\n",
      "Requirement already satisfied: py4j==0.10.9.7 in /usr/local/lib/python3.10/dist-packages (from pyspark) (0.10.9.7)\n",
      "Building wheels for collected packages: pyspark\n",
      "  Building wheel for pyspark (setup.py) ... \u001b[?25l\u001b[?25hdone\n",
      "  Created wheel for pyspark: filename=pyspark-3.5.1-py2.py3-none-any.whl size=317488491 sha256=4a215124658e6ac212e48aa2cf59f85f9e1f7f045ef8fdef6e471c50e08778da\n",
      "  Stored in directory: /root/.cache/pip/wheels/80/1d/60/2c256ed38dddce2fdd93be545214a63e02fbd8d74fb0b7f3a6\n",
      "Successfully built pyspark\n",
      "Installing collected packages: pyspark\n",
      "Successfully installed pyspark-3.5.1\n"
     ]
    }
   ],
   "source": [
    "!pip install pyspark"
   ]
  },
  {
   "cell_type": "code",
   "execution_count": 2,
   "id": "04ed2518",
   "metadata": {
    "id": "04ed2518"
   },
   "outputs": [],
   "source": [
    "import pyspark\n",
    "from pyspark.sql import SparkSession"
   ]
  },
  {
   "cell_type": "code",
   "execution_count": 3,
   "id": "494d9d27",
   "metadata": {
    "id": "494d9d27"
   },
   "outputs": [],
   "source": [
    "from pyspark.sql import SparkSession\n",
    "spark = SparkSession.builder.appName(\"Project\").getOrCreate()"
   ]
  },
  {
   "cell_type": "code",
   "execution_count": 4,
   "id": "5a3d6550",
   "metadata": {
    "colab": {
     "base_uri": "https://localhost:8080/",
     "height": 219
    },
    "id": "5a3d6550",
    "outputId": "f4bee4ab-db36-47f6-8cb3-d8262ae25d86"
   },
   "outputs": [
    {
     "data": {
      "text/html": [
       "\n",
       "            <div>\n",
       "                <p><b>SparkSession - in-memory</b></p>\n",
       "                \n",
       "        <div>\n",
       "            <p><b>SparkContext</b></p>\n",
       "\n",
       "            <p><a href=\"http://cc914753bba2:4040\">Spark UI</a></p>\n",
       "\n",
       "            <dl>\n",
       "              <dt>Version</dt>\n",
       "                <dd><code>v3.5.1</code></dd>\n",
       "              <dt>Master</dt>\n",
       "                <dd><code>local[*]</code></dd>\n",
       "              <dt>AppName</dt>\n",
       "                <dd><code>Project</code></dd>\n",
       "            </dl>\n",
       "        </div>\n",
       "        \n",
       "            </div>\n",
       "        "
      ],
      "text/plain": [
       "<pyspark.sql.session.SparkSession at 0x7f72ada97be0>"
      ]
     },
     "execution_count": 4,
     "metadata": {},
     "output_type": "execute_result"
    }
   ],
   "source": [
    "spark"
   ]
  },
  {
   "cell_type": "code",
   "execution_count": 5,
   "id": "d956d7bf",
   "metadata": {
    "id": "d956d7bf"
   },
   "outputs": [],
   "source": [
    "from pyspark.sql import functions as F\n",
    "\n",
    "# Import for typecasting columns\n",
    "from pyspark.sql.types import IntegerType,BooleanType,DateType,FloatType,StringType\n",
    "from pyspark.sql.types import ArrayType"
   ]
  },
  {
   "cell_type": "markdown",
   "id": "652d9b65",
   "metadata": {
    "id": "652d9b65"
   },
   "source": [
    " ## <font color='red'>Task 01: Read the data </font>"
   ]
  },
  {
   "cell_type": "markdown",
   "id": "d45cb47b",
   "metadata": {
    "id": "d45cb47b"
   },
   "source": [
    "<font color='red'> Ensure you read the data so that all columns are read with the right data type.\n",
    "The \"right\" datatype at this stage are shown in the expected output cell below. </font>"
   ]
  },
  {
   "cell_type": "markdown",
   "id": "d4ef807f",
   "metadata": {
    "id": "d4ef807f"
   },
   "source": [
    "<font color='red'>\n",
    "    \n",
    "**Sample input:**\n",
    "This task does not have an input.\n",
    "\n",
    "**Sample output:**\n",
    "Dataframe stored in the variable ```raw_recipes_df```.  </font>"
   ]
  },
  {
   "attachments": {
    "image.png": {
     "image/png": "[encoded data removed]"
    }
   },
   "cell_type": "markdown",
   "id": "5ba397c7",
   "metadata": {},
   "source": [
    "![image.png](attachment:image.png)"
   ]
  },
  {
   "cell_type": "markdown",
   "id": "c0b0c21a",
   "metadata": {
    "id": "c0b0c21a"
   },
   "source": [
    "<font color='red'> We have included some test cases given below. You can use them to check if you have completed the task correctly.  </font>"
   ]
  },
  {
   "cell_type": "markdown",
   "id": "ad8a30e9",
   "metadata": {
    "id": "ad8a30e9"
   },
   "source": [
    "### <font color='blue'>Solution to Task 1 </font>"
   ]
  },
  {
   "cell_type": "markdown",
   "id": "d4fe11a3",
   "metadata": {
    "id": "d4fe11a3"
   },
   "source": [
    "<font color='blue'>complete the code in the following cell </font>"
   ]
  },
  {
   "cell_type": "code",
   "execution_count": 6,
   "id": "e20dae66",
   "metadata": {
    "id": "e20dae66"
   },
   "outputs": [],
   "source": [
    "# Task 01 Cell 1 out of 1\n",
    "\n",
    "raw_recipes_df = spark.read.csv(\"RAW_recipes_cleaned.csv\", inferSchema=True, header=True)\n",
    "\n",
    "                   # argument 1, Add an argument to communicate to the compiler that there is a header in the raw data.\n",
    "                   # argument 2, Add an argument to ask the complier to estimate the data types for all columns.\n",
    "\n",
    "# Please forward the exact name of data frames and columns as suggested in the code.\n",
    "# It will ensure that the assert commands function correctly."
   ]
  },
  {
   "cell_type": "markdown",
   "id": "62407b85",
   "metadata": {
    "id": "62407b85"
   },
   "source": [
    "<font color='blue'>Test cases for Task 01</font>"
   ]
  },
  {
   "cell_type": "code",
   "execution_count": 7,
   "id": "a5b8d8b3",
   "metadata": {
    "id": "a5b8d8b3",
    "scrolled": true
   },
   "outputs": [],
   "source": [
    "# Code check cell\n",
    "# Do not edit cells with assert commands\n",
    "# If an error is shown after running this cell, please recheck your code.\n",
    "\n",
    "assert raw_recipes_df.count() == 231637, \"There is a mistake in reading the data.\"\n",
    "assert len(raw_recipes_df.columns) == 12, \"There is a mistake in reading the data.\"\n",
    "assert raw_recipes_df.schema[\"minutes\"].dataType == IntegerType(), \"The data types have not been read correctly.\"\n",
    "assert raw_recipes_df.schema[\"tags\"].dataType == StringType(), \"The data types have not been read correctly.\"\n",
    "assert raw_recipes_df.schema[\"n_ingredients\"].dataType == IntegerType(), \"The data types have not been read correctly.\""
   ]
  },
  {
   "cell_type": "markdown",
   "id": "abbd80be",
   "metadata": {
    "id": "abbd80be"
   },
   "source": [
    " #### <font color='red'>If all test cases pass task 01 ends </font>"
   ]
  },
  {
   "cell_type": "markdown",
   "id": "8d240566",
   "metadata": {
    "id": "8d240566"
   },
   "source": [
    "## Extract ```nutrition``` values"
   ]
  },
  {
   "cell_type": "code",
   "execution_count": 8,
   "id": "e60b6807",
   "metadata": {
    "id": "e60b6807"
   },
   "outputs": [],
   "source": [
    "# List of nutrition columns\n",
    "\n",
    "nutrition_column_names = ['calories',\n",
    "                          'total_fat_PDV',\n",
    "                          'sugar_PDV',\n",
    "                          'sodium_PDV',\n",
    "                          'protein_PDV',\n",
    "                          'saturated_fat_PDV',\n",
    "                          'carbohydrates_PDV']"
   ]
  },
  {
   "cell_type": "markdown",
   "id": "383e4450",
   "metadata": {
    "id": "383e4450"
   },
   "source": [
    " ## <font color='red'>Task 02: Extract individual features from the nutrition column."
   ]
  },
  {
   "cell_type": "markdown",
   "id": "a836d795",
   "metadata": {
    "id": "a836d795"
   },
   "source": [
    "<font color='red'>\n",
    "As read by the spark compiler, the nutrition column is a string column when it should be an array of float values. Each row in the nutrition column contains seven values. Each value represents nutrition information.\n",
    "    \n",
    "    \n",
    "**Your task is to separate the array into seven individual columns.**\n",
    "    \n",
    "Write a code that takes in the nutrition column from ```raw_recipes_df``` dataframe, and extracts individual values into seven different columns named calories, total fat (PDV), sugar (PDV), sodium (PDV), protein (PDV), saturated fat (PDV), and carbohydrates (PDV).\n",
    "\n",
    "</font>"
   ]
  },
  {
   "cell_type": "markdown",
   "id": "7d47c797",
   "metadata": {
    "id": "7d47c797"
   },
   "source": [
    "<font color='red'>\n",
    "    \n",
    "### **Sample input:**\n",
    "    \n",
    "The image below shows a subset of columns from the ```raw_recipes_df``` dataset. The datatype of the nutrition column is a string.\n",
    " </font>"
   ]
  },
  {
   "attachments": {
    "image.png": {
     "image/png": "[encoded data removed]"
    }
   },
   "cell_type": "markdown",
   "id": "b3c1e1cb",
   "metadata": {
    "id": "b3c1e1cb"
   },
   "source": [
    "![image.png](attachment:image.png)"
   ]
  },
  {
   "cell_type": "markdown",
   "id": "df30c694",
   "metadata": {
    "id": "df30c694"
   },
   "source": [
    "<font color='red'>\n",
    "    \n",
    "### **Sample Output:**\n",
    "    \n",
    "The image below shows a subset of columns from the ```raw_recipes_df``` dataset after the extraction of nutrition values is completed. The datatype of the individual nutrition column is has to be float.\n",
    " </font>"
   ]
  },
  {
   "attachments": {
    "image.png": {
     "image/png": "[encoded data removed]"
    }
   },
   "cell_type": "markdown",
   "id": "f684f24f",
   "metadata": {
    "id": "f684f24f"
   },
   "source": [
    "![image.png](attachment:image.png)"
   ]
  },
  {
   "cell_type": "markdown",
   "id": "5240146f",
   "metadata": {
    "id": "5240146f"
   },
   "source": [
    "<font color='red'>\n",
    "\n",
    "This task is further divided into two sub tasks\n",
    "    \n",
    "### Task 2.1\n",
    "    \n",
    "Use string operations to remove the square brackets from the nutrition column.\n",
    "\n",
    "Sample input: nutrition column\n",
    "    </font>"
   ]
  },
  {
   "attachments": {
    "image.png": {
     "image/png": "[encoded data removed]"
    }
   },
   "cell_type": "markdown",
   "id": "19ac3c26",
   "metadata": {
    "id": "19ac3c26"
   },
   "source": [
    "![image.png](attachment:image.png)"
   ]
  },
  {
   "cell_type": "markdown",
   "id": "5f221977",
   "metadata": {
    "id": "5f221977"
   },
   "source": [
    "<font color='red'>\n",
    "\n",
    "\n",
    "**Sample output:**\n",
    "Nutrition column without the brackets.\n",
    "    \n",
    "</font>"
   ]
  },
  {
   "attachments": {
    "image.png": {
     "image/png": "[encoded data removed]"
    }
   },
   "cell_type": "markdown",
   "id": "7af331b0",
   "metadata": {
    "id": "7af331b0"
   },
   "source": [
    "![image.png](attachment:image.png)"
   ]
  },
  {
   "cell_type": "markdown",
   "id": "39bdc7a5",
   "metadata": {
    "id": "39bdc7a5"
   },
   "source": [
    "<font color='red'>\n",
    "\n",
    "### Task 2.2\n",
    "    \n",
    "Task 2.2 Split the nutrition column into seven individual columns and cast the new columns to float values.\n",
    "\n",
    "First split the column on using the comma delimiter. Then you can use a for loop to iterate over the column names declared in the variable ```nutrition_column_names```, inside each iteration write a code to extract the value at a specific index of the nutrition array  \n",
    "\n",
    "**Sample input:**\n",
    "Nutrition column without the brackets.\n",
    "    \n",
    "</font>"
   ]
  },
  {
   "attachments": {
    "image.png": {
     "image/png": "[encoded data removed]"
    }
   },
   "cell_type": "markdown",
   "id": "31435271",
   "metadata": {
    "id": "31435271"
   },
   "source": [
    "![image.png](attachment:image.png)"
   ]
  },
  {
   "cell_type": "markdown",
   "id": "4655f67c",
   "metadata": {
    "id": "4655f67c"
   },
   "source": [
    "<font color='red'>\n",
    "\n",
    "**Sample output:**\n",
    "Nutrition column split into multiple\n",
    "    \n",
    "</font>"
   ]
  },
  {
   "attachments": {
    "image.png": {
     "image/png": "[encoded data removed]"
    }
   },
   "cell_type": "markdown",
   "id": "884e23e8",
   "metadata": {
    "id": "884e23e8"
   },
   "source": [
    "![image.png](attachment:image.png)"
   ]
  },
  {
   "cell_type": "markdown",
   "id": "7b1c05c0",
   "metadata": {
    "id": "7b1c05c0"
   },
   "source": [
    "<font color='red'> We have included some test cases given below. You can use them to check if you have completed the task correctly.  </font>"
   ]
  },
  {
   "cell_type": "markdown",
   "id": "da588328",
   "metadata": {
    "id": "da588328"
   },
   "source": [
    "### <font color='blue'>Solution to Task 2 </font>"
   ]
  },
  {
   "cell_type": "markdown",
   "id": "c51ea51c",
   "metadata": {
    "id": "c51ea51c"
   },
   "source": [
    "<font color='blue'>complete the code in the following cell </font>"
   ]
  },
  {
   "cell_type": "code",
   "execution_count": 9,
   "id": "1083715f",
   "metadata": {
    "id": "1083715f"
   },
   "outputs": [],
   "source": [
    "# Task 02 Cell 1 out of 2\n",
    "# 2.1 - string operations to remove square brakets\n",
    "\n",
    "raw_recipes_df = (raw_recipes_df\n",
    "                  .withColumn('nutrition', (F.regexp_replace(\"nutrition\",\"[\\[\\]]\",\"\")))\n",
    "                             # add code to remove square brackets\n",
    "                             # pyspark function to replace string characters\n",
    "                 )"
   ]
  },
  {
   "cell_type": "code",
   "execution_count": 10,
   "id": "7c2a3cc8",
   "metadata": {
    "id": "7c2a3cc8"
   },
   "outputs": [],
   "source": [
    "# Task 02 Cell 2 out of 3\n",
    "# STEP 2.2 - split the neutrition string into seven individial values.\n",
    "# Create an object to split the nutrition column\n",
    "\n",
    "import pyspark\n",
    "nutrition_cols_split = pyspark.sql.functions.split(raw_recipes_df['nutrition'],',')\n",
    "                       # pyspark function to split values based on a delimiter.\n",
    "\n",
    "# Write a loop to extract individual values from the nutrition column\n",
    "\n",
    "for col_index, col_name in enumerate(nutrition_column_names):\n",
    "    # col_index holds the index number of each column, e.g., calories will be 0\n",
    "    # col_name holds the name of each column\n",
    "\n",
    "    raw_recipes_df = (raw_recipes_df.withColumn(col_name, nutrition_cols_split.getItem(col_index).cast(\"float\"))\n",
    "                                        # pyspark function to extract individual values from the nutrition_cols_split object\n",
    "                                        # You can also cast the extracted value to floats in the same code.\n",
    "                     )"
   ]
  },
  {
   "cell_type": "markdown",
   "id": "056898fa",
   "metadata": {
    "id": "056898fa"
   },
   "source": [
    "Hint: [Visit this page to learn more about splitting columns](https://sparkbyexamples.com/pyspark/pyspark-split-dataframe-column-into-multiple-columns/)"
   ]
  },
  {
   "cell_type": "markdown",
   "id": "4763390d",
   "metadata": {
    "id": "4763390d"
   },
   "source": [
    "**Test cases for task 02**"
   ]
  },
  {
   "cell_type": "code",
   "execution_count": 11,
   "id": "7323e7ff",
   "metadata": {
    "id": "7323e7ff",
    "scrolled": true
   },
   "outputs": [],
   "source": [
    "# Code check cell\n",
    "# Do not edit cells with assert commands\n",
    "# If an error is shown after running this cell, please recheck your code.\n",
    "\n",
    "assert raw_recipes_df.schema[\"carbohydrates_PDV\"].dataType == FloatType(), \"Recheck your typecasting\"\n",
    "assert raw_recipes_df.collect()[123432][14] == 62.0, \"The columns have not been split correctly.\"\n",
    "assert raw_recipes_df.collect()[10000][12] == 60.400001525878906, \"The columns have not been split correctly.\""
   ]
  },
  {
   "cell_type": "markdown",
   "id": "e2c7c87c",
   "metadata": {
    "id": "e2c7c87c"
   },
   "source": [
    " #### <font color='red'>If all test cases pass task 02 ends </font>"
   ]
  },
  {
   "cell_type": "markdown",
   "id": "0eb0277c",
   "metadata": {
    "id": "0eb0277c"
   },
   "source": [
    "## Make nutrition-per-100 calorie columns\n",
    "\n",
    "By converting the nutrition values from absolute to relative terms, we ensure that portion size is not a factor in the analysis.\n"
   ]
  },
  {
   "cell_type": "markdown",
   "id": "8ac526a5",
   "metadata": {
    "id": "8ac526a5"
   },
   "source": [
    "Naming convention: Original column name ```total fat (PDV)```, column name after column ```total_fat_per_100_cal```"
   ]
  },
  {
   "cell_type": "markdown",
   "id": "55662bc0",
   "metadata": {
    "id": "55662bc0"
   },
   "source": [
    "## <font color='red'>Task 03: Standardize the nutrition values </font>"
   ]
  },
  {
   "cell_type": "markdown",
   "id": "28dd54ed",
   "metadata": {
    "id": "28dd54ed"
   },
   "source": [
    "<font color='red'>\n",
    "The current values for nutrition columns are not on the same scale.\n",
    "Your task is to standardize the nutrition columns using calories as the base of standardization.\n",
    "\n",
    "Convert the nutrition from absolute values to per 100 calorie values.\n",
    "</font>"
   ]
  },
  {
   "cell_type": "markdown",
   "id": "40ca70f8",
   "metadata": {
    "id": "40ca70f8"
   },
   "source": [
    "<font color='red'>\n",
    "    \n",
    "We will use the  ```sugar (PDV)``` column to demonstrate the calculations for standardization.  \n",
    "\n",
    "</font>"
   ]
  },
  {
   "attachments": {
    "image.png": {
     "image/png": "[encoded data removed]"
    }
   },
   "cell_type": "markdown",
   "id": "892a8590",
   "metadata": {
    "id": "892a8590"
   },
   "source": [
    "![image.png](attachment:image.png)"
   ]
  },
  {
   "cell_type": "markdown",
   "id": "22596e49",
   "metadata": {
    "id": "22596e49"
   },
   "source": [
    "<font color='red'>\n",
    "    \n",
    "**Sample Calculation**\n",
    "\n",
    "Before transformation: ```sugar (PDV)``` for recipe id 137739 = 13.0\n",
    "\n",
    "Calories in the recipe recipe id 137739                       = 51.5\n",
    "\n",
    "Calculation:  \n",
    "sugar_per_100_cal = 13.0 * 100 / 51.5\n",
    "\n",
    "After transformation ```sugar_per_100_cal``` = 25.24\n",
    "    \n",
    "</font>"
   ]
  },
  {
   "cell_type": "markdown",
   "id": "3347a9de",
   "metadata": {
    "id": "3347a9de"
   },
   "source": [
    "<font color='red'>\n",
    "\n",
    "**Sample Input:**\n",
    "\n",
    "All nutrition columns except calories\n",
    "    \n",
    "</font>"
   ]
  },
  {
   "attachments": {
    "image.png": {
     "image/png": "[encoded data removed]"
    }
   },
   "cell_type": "markdown",
   "id": "92ffc6fe",
   "metadata": {
    "id": "92ffc6fe"
   },
   "source": [
    "![image.png](attachment:image.png)"
   ]
  },
  {
   "cell_type": "markdown",
   "id": "2fff4ea7",
   "metadata": {
    "id": "2fff4ea7"
   },
   "source": [
    "<font color='red'>\n",
    "\n",
    "**Sample Output:**\n",
    "\n",
    "All nutrition columns standardized to per 100 calories\n",
    "    \n",
    "</font>"
   ]
  },
  {
   "attachments": {
    "image.png": {
     "image/png": "[encoded data removed]"
    }
   },
   "cell_type": "markdown",
   "id": "d3306ed5",
   "metadata": {
    "id": "d3306ed5"
   },
   "source": [
    "![image.png](attachment:image.png)"
   ]
  },
  {
   "cell_type": "markdown",
   "id": "b542d1c1",
   "metadata": {
    "id": "b542d1c1"
   },
   "source": [
    "<font color='red'> We have included some test cases given below. You can use them to check if you have completed the task correctly.  </font>"
   ]
  },
  {
   "cell_type": "markdown",
   "id": "3affae2f",
   "metadata": {
    "id": "3affae2f"
   },
   "source": [
    "### <font color='blue'>Solution to Task 3 </font>"
   ]
  },
  {
   "cell_type": "markdown",
   "id": "56ee388a",
   "metadata": {
    "id": "56ee388a"
   },
   "source": [
    "<font color='blue'>Complete the code in the following cell</font>"
   ]
  },
  {
   "cell_type": "code",
   "execution_count": 12,
   "id": "237faab1",
   "metadata": {
    "id": "237faab1"
   },
   "outputs": [],
   "source": [
    "# Task 03 Cell 1 out of 1\n",
    "\n",
    "for nutrition_col in nutrition_column_names:       # loop over each of the newly created nutrition columns\n",
    "    if nutrition_col != \"calories\":                # the calories column should not be a part of the transformation exercise\n",
    "        # following code will name the new columns\n",
    "        nutrition_per_100_cal_col = (nutrition_col\n",
    "                                 .replace('_PDV','')\n",
    "                                 +'_per_100_cal')\n",
    "        raw_recipes_df = raw_recipes_df.withColumn(nutrition_per_100_cal_col,\n",
    "                                                   raw_recipes_df[nutrition_col]*100/raw_recipes_df[\"calories\"]\n",
    "                                               # pyspark code to recreate the intended transformation\n",
    "                                                  )\n",
    "\n",
    "        # You might end up adding nulls to the data because of our intended transformation.\n",
    "        # Perform a fill na operation to fill all the nulls with 0s.\n",
    "        # You must limit the scope of the fill na to the current column only.\n",
    "\n",
    "        raw_recipes_df = raw_recipes_df.fillna(value=0,subset=[nutrition_per_100_cal_col])\n",
    "                        # pyspark code to fill nulls with 0 in only the current nutrition_per_100_cal_col\n"
   ]
  },
  {
   "cell_type": "markdown",
   "id": "d2656a22",
   "metadata": {
    "id": "d2656a22"
   },
   "source": [
    "**Test cases for Task 03**"
   ]
  },
  {
   "cell_type": "code",
   "execution_count": 13,
   "id": "8a97ad4c",
   "metadata": {
    "id": "8a97ad4c"
   },
   "outputs": [],
   "source": [
    "# total fat check for id 28881\n",
    "assert raw_recipes_df.filter(\"id == 28881\").select('total_fat_per_100_cal').first()[0] == 0, \"total_fat_per_100_cal for recipe 28881 should be 0\"\n",
    "\n",
    "# total fat check for id 112140\n",
    "assert round(raw_recipes_df.filter(\"id == 112140\").select('total_fat_per_100_cal').first()[0]) == 8, \"total_fat_per_100_cal for recipe 112140 should be 8\"\n",
    "\n",
    "# checking for nulls\n",
    "for c in ['total_fat_per_100_cal','sugar_per_100_cal','sodium_per_100_cal','protein_per_100_cal',\n",
    "                          'saturated_fat_per_100_cal','carbohydrates_per_100_cal']:\n",
    "    assert raw_recipes_df.select(F.count(F.when(F.isnan(c) | F.col(c).isNull(), c)).alias(c)).collect()[0][0] == 0, \"There are Nulls in the data\""
   ]
  },
  {
   "cell_type": "markdown",
   "id": "77b2b456",
   "metadata": {
    "id": "77b2b456"
   },
   "source": [
    " #### <font color='red'>If all test cases pass task 03 ends </font>"
   ]
  },
  {
   "cell_type": "markdown",
   "id": "2bd6ac1d",
   "metadata": {
    "id": "2bd6ac1d"
   },
   "source": [
    "## <font color='red'>Task 04: Convert the tags column from a string to an array of strings </font>"
   ]
  },
  {
   "cell_type": "markdown",
   "id": "41905c76",
   "metadata": {
    "id": "41905c76"
   },
   "source": [
    "<font color='red'>\n",
    "    \n",
    "Currently, the tags column is a string column but holds an array of strings.\n",
    "\n",
    "Your task is to convert the tags columns from a string to an array of strings.\n",
    "    \n",
    "</font>"
   ]
  },
  {
   "cell_type": "markdown",
   "id": "08470494",
   "metadata": {
    "id": "08470494"
   },
   "source": [
    "<font color='red'>\n",
    "\n",
    "Remove ```[``` ```]``` ```'``` punctuation marks from the tags column.\n",
    "Split the tags column based on the comma delimiter.\n",
    "    \n",
    "\n",
    "</font>"
   ]
  },
  {
   "cell_type": "markdown",
   "id": "4b724846",
   "metadata": {
    "id": "4b724846"
   },
   "source": [
    "<font color='red'>\n",
    "\n",
    "**Sample input**\n",
    "    \n",
    "Tags column in string datatype.\n",
    "    \n",
    "</font>"
   ]
  },
  {
   "attachments": {
    "image.png": {
     "image/png": "[encoded data removed]"
    }
   },
   "cell_type": "markdown",
   "id": "61c53092",
   "metadata": {
    "id": "61c53092"
   },
   "source": [
    "![image.png](attachment:image.png)"
   ]
  },
  {
   "cell_type": "markdown",
   "id": "d8d04cf2",
   "metadata": {
    "id": "d8d04cf2"
   },
   "source": [
    "<font color='red'>\n",
    "\n",
    "**Sample outout**\n",
    "    \n",
    "Tags column in array of ArrayType(StringType())  \n",
    "    \n",
    "</font>"
   ]
  },
  {
   "attachments": {
    "image.png": {
     "image/png": "[encoded data removed]"
    }
   },
   "cell_type": "markdown",
   "id": "22614b82",
   "metadata": {
    "id": "22614b82"
   },
   "source": [
    "![image.png](attachment:image.png)"
   ]
  },
  {
   "cell_type": "markdown",
   "id": "e7fe1ba7",
   "metadata": {
    "id": "e7fe1ba7"
   },
   "source": [
    "<font color='red'> We have included some test cases given below. You can use them to check if you have completed the task correctly.  </font>"
   ]
  },
  {
   "cell_type": "markdown",
   "id": "a7580844",
   "metadata": {
    "id": "a7580844"
   },
   "source": [
    "### <font color='blue'>Solution to Task 4 </font>"
   ]
  },
  {
   "cell_type": "markdown",
   "id": "98593e1f",
   "metadata": {
    "id": "98593e1f"
   },
   "source": [
    "<font color='blue'>Complete the code in the following cell</font>"
   ]
  },
  {
   "cell_type": "code",
   "execution_count": 14,
   "id": "c749ab84",
   "metadata": {
    "id": "c749ab84",
    "scrolled": true
   },
   "outputs": [],
   "source": [
    "# Task 04 Cell 1 out of 1\n",
    "# pyspark function to remove symbols like '[' ']' \"'\" from the strings in the tags column.\n",
    "# pyspark function to split the column using the comma delimiter.\n",
    "\n",
    "import pyspark\n",
    "from pyspark.sql.functions import col, regexp_replace, split, trim\n",
    "\n",
    "# Step 1: Remove unwanted characters from tags column\n",
    "raw_recipes_df = raw_recipes_df.withColumn('tags', regexp_replace(col('tags'), \"[\\\\[\\\\]\\\\']\", \"\"))\n",
    "\n",
    "# Step 2: Split tags column by comma and trim whitespace from each element\n",
    "raw_recipes_df = raw_recipes_df.withColumn('tags', split(col('tags'), \",\\s*\").cast(ArrayType(StringType())).alias('tags'))\n"
   ]
  },
  {
   "cell_type": "markdown",
   "id": "abea8362",
   "metadata": {
    "id": "abea8362"
   },
   "source": [
    "**Test cases for Task 04**"
   ]
  },
  {
   "cell_type": "code",
   "execution_count": 15,
   "id": "493f28b6",
   "metadata": {
    "id": "493f28b6"
   },
   "outputs": [],
   "source": [
    "# Code check cell\n",
    "# Do not edit cells with assert commands\n",
    "# If an error is shown after running this cell, please recheck your code.\n",
    "\n",
    "assert raw_recipes_df.schema[\"tags\"].dataType == ArrayType(StringType(), True), \"You have not split the string into an array.\"\n",
    "assert raw_recipes_df.collect()[2][5] == ['time-to-make','course', 'preparation', 'main-dish', 'chili', 'crock-pot-slow-cooker', 'dietary', 'equipment', '4-hours-or-less'], \"Recheck your string cleaning and splitting operations.\""
   ]
  },
  {
   "cell_type": "markdown",
   "id": "923e5db1",
   "metadata": {
    "id": "923e5db1"
   },
   "source": [
    "#### <font color='red'>If all test cases pass task 04 ends </font>"
   ]
  },
  {
   "cell_type": "markdown",
   "id": "96e3185b",
   "metadata": {
    "id": "96e3185b"
   },
   "source": [
    "## Join Recipe Data to Review Data"
   ]
  },
  {
   "cell_type": "code",
   "execution_count": 16,
   "id": "63fba4f5",
   "metadata": {
    "id": "63fba4f5"
   },
   "outputs": [],
   "source": [
    "# Reading the second data set.\n",
    "# keep this cell unedited\n",
    "\n",
    "raw_ratings_df = (spark.read.csv(\"RAW_interactions_cleaned.csv\",\n",
    "                                 header=True,\n",
    "                                 inferSchema= True)\n",
    "                  .withColumn(\"review_date\",  F.col(\"date\"))\n",
    "                  .drop(F.col(\"date\"))\n",
    "                  )"
   ]
  },
  {
   "cell_type": "code",
   "execution_count": 17,
   "id": "31b18096",
   "metadata": {
    "colab": {
     "base_uri": "https://localhost:8080/"
    },
    "id": "31b18096",
    "outputId": "ddb6c1a7-e4e3-4be6-aa9f-d023c570065e"
   },
   "outputs": [
    {
     "name": "stdout",
     "output_type": "stream",
     "text": [
      "root\n",
      " |-- user_id: integer (nullable = true)\n",
      " |-- recipe_id: integer (nullable = true)\n",
      " |-- rating: integer (nullable = true)\n",
      " |-- review: string (nullable = true)\n",
      " |-- review_date: date (nullable = true)\n",
      "\n"
     ]
    }
   ],
   "source": [
    "raw_ratings_df.printSchema()"
   ]
  },
  {
   "cell_type": "code",
   "execution_count": 18,
   "id": "f4e8cac9",
   "metadata": {
    "id": "f4e8cac9"
   },
   "outputs": [],
   "source": [
    "# Code check cell\n",
    "# Do not edit cells with assert commands\n",
    "# If an error is shown after running this cell, please recheck your code.\n",
    "\n",
    "assert raw_ratings_df.count() == 1132367, \"There is a mistake in reading the data.\"\n",
    "assert len(raw_ratings_df.columns) == 5, \"There is a mistake in reading the data.\""
   ]
  },
  {
   "cell_type": "code",
   "execution_count": 19,
   "id": "17084afb",
   "metadata": {
    "colab": {
     "base_uri": "https://localhost:8080/"
    },
    "id": "17084afb",
    "outputId": "58279151-1970-4ccb-8828-ce01e289c7d7",
    "scrolled": true
   },
   "outputs": [
    {
     "name": "stdout",
     "output_type": "stream",
     "text": [
      "+-------+---------+------+--------------------+-----------+\n",
      "|user_id|recipe_id|rating|              review|review_date|\n",
      "+-------+---------+------+--------------------+-----------+\n",
      "|  38094|    40893|     4|Great with a sala...| 2003-02-17|\n",
      "|1293707|    40893|     5|So simple  so del...| 2011-12-21|\n",
      "|   8937|    44394|     4|This worked very ...| 2002-12-01|\n",
      "| 126440|    85009|     5|I made the Mexica...| 2010-02-27|\n",
      "|  57222|    85009|     5|Made the cheddar ...| 2011-10-01|\n",
      "+-------+---------+------+--------------------+-----------+\n",
      "only showing top 5 rows\n",
      "\n"
     ]
    }
   ],
   "source": [
    "raw_ratings_df.show(5)"
   ]
  },
  {
   "cell_type": "markdown",
   "id": "9e6335b6",
   "metadata": {
    "id": "9e6335b6"
   },
   "source": [
    "## <font color='red'>Task 05: Read the second data file </font>"
   ]
  },
  {
   "cell_type": "markdown",
   "id": "bb38527e",
   "metadata": {
    "id": "bb38527e"
   },
   "source": [
    "<font color='red'>\n",
    "\n",
    "Along with raw recipes data, we also have raw ratings data.\n",
    "\n",
    "The code to read the data is already written above. Your task is to join the raw ratings and raw recipes data.\n",
    "\n",
    "The resulting dataframe must have the same number of rows as in the raw ratings data.\n",
    "    \n",
    "Join both the dataframes using the recipie IDs.\n",
    "    \n",
    "</font>"
   ]
  },
  {
   "cell_type": "markdown",
   "id": "afe730a0",
   "metadata": {
    "id": "afe730a0"
   },
   "source": [
    "<font color='red'>\n",
    "    \n",
    "**Sample Input**\n",
    "    \n",
    "```raw recipes_df``` and ```raw_ratings_df```"
   ]
  },
  {
   "attachments": {
    "image.png": {
     "image/png": "[encoded data removed]"
    }
   },
   "cell_type": "markdown",
   "id": "874180c3",
   "metadata": {
    "id": "874180c3"
   },
   "source": [
    "![image.png](attachment:image.png)"
   ]
  },
  {
   "cell_type": "markdown",
   "id": "5408d705",
   "metadata": {
    "id": "5408d705"
   },
   "source": [
    "<font color='red'>\n",
    "\n",
    "**Sample Output**\n",
    "\n",
    "Combined dataframe with 30 columns and 1132367 rows\n",
    "    \n",
    "</font>"
   ]
  },
  {
   "attachments": {
    "image.png": {
     "image/png": "[encoded data removed]"
    }
   },
   "cell_type": "markdown",
   "id": "4f83c600",
   "metadata": {
    "id": "4f83c600"
   },
   "source": [
    "![image.png](attachment:image.png)"
   ]
  },
  {
   "cell_type": "markdown",
   "id": "e7f4fe5a",
   "metadata": {
    "id": "e7f4fe5a"
   },
   "source": [
    "<font color='red'>\n",
    "\n",
    "**Calculation explanation**\n",
    "\n",
    "There are 25 columns in the ```raw_recipes_df``` and five in the ```raw_ratings_df```. So total columns in the combined dataframe 25 + 5 = 30\n",
    "\n",
    "The number of rows in the combined dataframe must be the same as the rows in the ```raw_ratings_df```. So total rows in combined dataframe 1132367\n",
    "    \n",
    "</font>"
   ]
  },
  {
   "cell_type": "markdown",
   "id": "dc7c934d",
   "metadata": {
    "id": "dc7c934d"
   },
   "source": [
    "<font color='red'> We have included some test cases given below. You can use them to check if you have completed the task correctly.  </font>"
   ]
  },
  {
   "cell_type": "markdown",
   "id": "4f87f2f0",
   "metadata": {
    "id": "4f87f2f0"
   },
   "source": [
    "### <font color='blue'>Solution to Task 5 </font>\n",
    "\n",
    "<font color='blue'>Complete the code in the following cell</font>"
   ]
  },
  {
   "cell_type": "code",
   "execution_count": 20,
   "id": "800f2ecc",
   "metadata": {
    "id": "800f2ecc"
   },
   "outputs": [],
   "source": [
    "# Task 05 Cell 1 out of 1\n",
    "\n",
    "interaction_level_df = raw_ratings_df.join(raw_recipes_df, raw_ratings_df.recipe_id == raw_recipes_df.id,\"inner\")\n",
    "                                           # add the key on which the join should happen\n",
    "                                           # mention the type of join expected.\n"
   ]
  },
  {
   "cell_type": "markdown",
   "id": "1a20faf3",
   "metadata": {
    "id": "1a20faf3"
   },
   "source": [
    "**Test cases for Task 05**"
   ]
  },
  {
   "cell_type": "code",
   "execution_count": 21,
   "id": "7a59d3cb",
   "metadata": {
    "id": "7a59d3cb"
   },
   "outputs": [],
   "source": [
    "# Code check cell\n",
    "# Do not edit cells with assert commands\n",
    "# If an error is shown after running this cell, please recheck your code.\n",
    "\n",
    "assert (interaction_level_df.count() ,len(interaction_level_df.columns)) == (1132367, 30), \"The type of join is incorrect\"\n",
    "\n",
    "list1 = raw_ratings_df.select('recipe_id').collect()\n",
    "list2 = raw_recipes_df.select('id').collect()\n",
    "exclusive_set = set(list1)-set(list2)\n",
    "\n",
    "assert len(exclusive_set) == 0, \"There is a mistake in reading one of the two data files.\""
   ]
  },
  {
   "cell_type": "markdown",
   "id": "0b84f908",
   "metadata": {
    "id": "0b84f908"
   },
   "source": [
    "#### <font color='red'>If all test cases pass task 05 ends </font>"
   ]
  },
  {
   "cell_type": "markdown",
   "id": "470302a4",
   "metadata": {
    "id": "470302a4"
   },
   "source": [
    "## <font color='red'>Task 06:  Create time-based features</font>\n"
   ]
  },
  {
   "cell_type": "markdown",
   "id": "41a69cd3",
   "metadata": {
    "id": "41a69cd3"
   },
   "source": [
    "<font color='red'>\n",
    "\n",
    "Currently, both the date columns, the submitted date, and the review date are in string forms.\n",
    "    \n",
    "First convert the ```submitted``` and ```review_date``` to DateType()\n",
    "\n",
    "Use review date and submission date to derive new features:\n",
    "1. ```days_since_submission_on_review_date``` Number of days between the recipe submission and the current review.  \n",
    "2. ```months_since_submission_on_review_date``` Number of months between the recipe submission and the current review.\n",
    "3. ```years_since_submission_on_review_date```Number of years between the recipe submission and the current review.\n",
    "\n",
    "</font>"
   ]
  },
  {
   "cell_type": "markdown",
   "id": "a72e2573",
   "metadata": {
    "id": "a72e2573"
   },
   "source": [
    "<font color='red'>\n",
    "\n",
    "**Sample input**\n",
    "\n",
    "The following columns need to be used to calculate the time based features.\n",
    "    \n",
    "</font>"
   ]
  },
  {
   "attachments": {
    "image.png": {
     "image/png": "[encoded data removed]"
    }
   },
   "cell_type": "markdown",
   "id": "538e9195",
   "metadata": {
    "id": "538e9195"
   },
   "source": [
    "![image.png](attachment:image.png)"
   ]
  },
  {
   "cell_type": "markdown",
   "id": "34178367",
   "metadata": {
    "id": "34178367"
   },
   "source": [
    "<font color='red'>\n",
    "\n",
    "**Sample Output:**\n",
    "\n",
    "New date based features have been added to the interactions dataframe\n",
    "\n",
    "</font>"
   ]
  },
  {
   "attachments": {
    "image.png": {
     "image/png": "[encoded data removed]"
    }
   },
   "cell_type": "markdown",
   "id": "82adcc3c",
   "metadata": {
    "id": "82adcc3c"
   },
   "source": [
    "![image.png](attachment:image.png)"
   ]
  },
  {
   "cell_type": "markdown",
   "id": "3d410639",
   "metadata": {
    "id": "3d410639"
   },
   "source": [
    "<font color='red'>\n",
    "\n",
    "**Sample Calculation**\n",
    "\n",
    "Recipe 40893 was submitted on 2002-09-21\n",
    "User 38094 reviewed recipe 40893 on 2003-02-17\n",
    "\n",
    "```days_since_submission_on_review_date``` number of calender days between 2002-09-21 and 2003-02-17 that is 149\n",
    "\n",
    "```months_since_submission_on_review_date``` number of calender months between 2002-09-21 and 2003-02-17 that is 4.87 (calculated by a pyspark function)\n",
    "\n",
    "```years_since_submission_on_review_date``` number of calender months divided by 12 that is 0.40\n",
    "    \n",
    "</font>"
   ]
  },
  {
   "cell_type": "markdown",
   "id": "dc67d3ac",
   "metadata": {
    "id": "dc67d3ac"
   },
   "source": [
    "### <font color='blue'>Solution to Task 6 </font>\n",
    "\n",
    "<font color='blue'>Complete the code in the following cell</font>"
   ]
  },
  {
   "cell_type": "code",
   "execution_count": 22,
   "id": "4325e82b",
   "metadata": {
    "id": "4325e82b"
   },
   "outputs": [],
   "source": [
    "# Task 06 Cell 1 out of 2\n",
    "# pyspark function to cast a column to DateType()\n",
    "# pyspark function to cast a column to DateType()\n",
    "\n",
    "interaction_level_df = (interaction_level_df\n",
    "                        .withColumn('submitted', F.col(\"submitted\").cast(\"date\")\n",
    "                                   )\n",
    "                        .withColumn('review_date', F.col(\"review_date\").cast(\"date\")\n",
    "                                   )\n",
    "                       )"
   ]
  },
  {
   "cell_type": "code",
   "execution_count": 23,
   "id": "dc2f5452",
   "metadata": {
    "id": "dc2f5452",
    "scrolled": false
   },
   "outputs": [],
   "source": [
    "# Pyspark function to find the number of days between two dates\n",
    "# Pyspark function to find the number of months between two dates\n",
    "# Pyspark function to find the number of months between two dates / 12\n",
    "\n",
    "interaction_level_df = (interaction_level_df\n",
    "                        .withColumn('days_since_submission_on_review_date', F.datediff(\"review_date\",\"submitted\")\n",
    "                                   )\n",
    "                        .withColumn('months_since_submission_on_review_date', F.months_between(\"review_date\",\"submitted\")\n",
    "                                   )\n",
    "                        .withColumn('years_since_submission_on_review_date', F.months_between(\"review_date\",\"submitted\")/12\n",
    "                                   )\n",
    "                         )"
   ]
  },
  {
   "cell_type": "markdown",
   "id": "32301322",
   "metadata": {
    "id": "32301322"
   },
   "source": [
    "**Test cases for Task 06**"
   ]
  },
  {
   "cell_type": "code",
   "execution_count": 24,
   "id": "416eb59e",
   "metadata": {
    "id": "416eb59e"
   },
   "outputs": [],
   "source": [
    "# Code check cell\n",
    "# Do not edit cells with assert commands\n",
    "# If an error is shown after running this cell, please recheck your code.\n",
    "\n",
    "assert interaction_level_df.schema[\"days_since_submission_on_review_date\"].dataType == IntegerType()\n",
    "\n",
    "assert (interaction_level_df.filter((interaction_level_df.user_id == 428885) & (interaction_level_df.recipe_id == 335241))\n",
    "                            .select('days_since_submission_on_review_date').collect()[0][0]) == 77\n",
    "assert (interaction_level_df.filter((interaction_level_df.user_id == 2025676) & (interaction_level_df.recipe_id == 94265))\n",
    "                            .select('months_since_submission_on_review_date').collect()[0][0]) == 153.22580645\n",
    "assert (interaction_level_df.filter((interaction_level_df.user_id == 338588) & (interaction_level_df.recipe_id == 21859))\n",
    "                            .select('years_since_submission_on_review_date').collect()[0][0]) == 4.564516129166667"
   ]
  },
  {
   "cell_type": "markdown",
   "id": "3a764c83",
   "metadata": {
    "id": "3a764c83"
   },
   "source": [
    "#### <font color='red'>If all test cases pass task 06 ends</font>"
   ]
  },
  {
   "cell_type": "markdown",
   "id": "794e0e3e",
   "metadata": {
    "id": "794e0e3e"
   },
   "source": [
    "### Final Data Check After Task 06"
   ]
  },
  {
   "cell_type": "code",
   "execution_count": 25,
   "id": "24f6017a",
   "metadata": {
    "colab": {
     "base_uri": "https://localhost:8080/"
    },
    "id": "24f6017a",
    "outputId": "f3ac6a26-494e-4569-9a55-0fb7135fda05",
    "scrolled": false
   },
   "outputs": [
    {
     "name": "stdout",
     "output_type": "stream",
     "text": [
      "root\n",
      " |-- user_id: integer (nullable = true)\n",
      " |-- recipe_id: integer (nullable = true)\n",
      " |-- rating: integer (nullable = true)\n",
      " |-- review: string (nullable = true)\n",
      " |-- review_date: date (nullable = true)\n",
      " |-- name: string (nullable = true)\n",
      " |-- id: integer (nullable = true)\n",
      " |-- minutes: integer (nullable = true)\n",
      " |-- contributor_id: integer (nullable = true)\n",
      " |-- submitted: date (nullable = true)\n",
      " |-- tags: array (nullable = true)\n",
      " |    |-- element: string (containsNull = true)\n",
      " |-- nutrition: string (nullable = true)\n",
      " |-- n_steps: integer (nullable = true)\n",
      " |-- steps: string (nullable = true)\n",
      " |-- description: string (nullable = true)\n",
      " |-- ingredients: string (nullable = true)\n",
      " |-- n_ingredients: integer (nullable = true)\n",
      " |-- calories: float (nullable = true)\n",
      " |-- total_fat_PDV: float (nullable = true)\n",
      " |-- sugar_PDV: float (nullable = true)\n",
      " |-- sodium_PDV: float (nullable = true)\n",
      " |-- protein_PDV: float (nullable = true)\n",
      " |-- saturated_fat_PDV: float (nullable = true)\n",
      " |-- carbohydrates_PDV: float (nullable = true)\n",
      " |-- total_fat_per_100_cal: double (nullable = false)\n",
      " |-- sugar_per_100_cal: double (nullable = false)\n",
      " |-- sodium_per_100_cal: double (nullable = false)\n",
      " |-- protein_per_100_cal: double (nullable = false)\n",
      " |-- saturated_fat_per_100_cal: double (nullable = false)\n",
      " |-- carbohydrates_per_100_cal: double (nullable = false)\n",
      " |-- days_since_submission_on_review_date: integer (nullable = true)\n",
      " |-- months_since_submission_on_review_date: double (nullable = true)\n",
      " |-- years_since_submission_on_review_date: double (nullable = true)\n",
      "\n"
     ]
    }
   ],
   "source": [
    "interaction_level_df.printSchema()"
   ]
  },
  {
   "cell_type": "code",
   "execution_count": 26,
   "id": "864a70a2",
   "metadata": {
    "id": "864a70a2",
    "scrolled": true
   },
   "outputs": [],
   "source": [
    "assert (interaction_level_df.count() ,len(interaction_level_df.columns) ) == (1132367, 33)"
   ]
  },
  {
   "cell_type": "markdown",
   "id": "9b5531ec",
   "metadata": {
    "id": "9b5531ec"
   },
   "source": [
    "## Task 07: Processing Numerical Columns and Visualising\n",
    "\n",
    "You can add non-linearity to all numerical columns by converting them to categorical columns. For example, consider the minutes column. If we build a model using this feature, the model will consider the change between 15 minutes and 45 minutes, the same as 90 minutes to 120 minutes, which might not be true. Hence, we bin numerical columns and convert them to categorical, allowing a model the opportunity to build a nonlinear relationship.\n",
    "\n",
    "Convert all numerical columns mentioned below to categorical columns. Use the percentile approach to decide the category boundaries.\n",
    "\n",
    "Columns to be bucketized.\n",
    "\n",
    "- years_since_submission_on_review_date\n",
    "- minutes\n",
    "- calories\n",
    "- total_fat_PDV\n",
    "- sugar_PDV\n",
    "- sodium_PDV\n",
    "- protein_PDV\n",
    "- saturated_fat_PDV\n",
    "- carbohydrates_PDV\n",
    "\n",
    "After creating buckets, study the variation of the average rating for each bucket and decide whether or not a particular bucketed column should be kept in the analysis."
   ]
  },
  {
   "cell_type": "markdown",
   "id": "55c18281",
   "metadata": {
    "id": "55c18281"
   },
   "source": [
    "## Initial Setup"
   ]
  },
  {
   "cell_type": "code",
   "execution_count": 34,
   "id": "75fc9b66",
   "metadata": {
    "id": "75fc9b66",
    "scrolled": true
   },
   "outputs": [],
   "source": [
    "from pyspark.sql import functions as F\n",
    "from pyspark.ml.feature import Bucketizer\n",
    "\n",
    "import matplotlib.pyplot as plt\n",
    "import pandas as pd\n",
    "import numpy as np\n",
    "\n",
    "# Import for typecasting columns\n",
    "from pyspark.sql.types import IntegerType,BooleanType,DateType,FloatType,StringType\n",
    "from pyspark.sql.types import ArrayType"
   ]
  },
  {
   "cell_type": "markdown",
   "id": "e7c41efa",
   "metadata": {
    "id": "e7c41efa"
   },
   "source": [
    "### Defining Custom Functions"
   ]
  },
  {
   "cell_type": "code",
   "execution_count": 35,
   "id": "c555023e",
   "metadata": {
    "id": "c555023e"
   },
   "outputs": [],
   "source": [
    "def get_quantiles(df, col_name, quantiles_list = [0.01, 0.25, 0.5, 0.75, 0.99]):\n",
    "    \"\"\"\n",
    "    Takes a numerical column and returns column values at requested quantiles\n",
    "\n",
    "    Inputs\n",
    "    Argument 1: Dataframe\n",
    "    Argument 2: Name of the column\n",
    "    Argument 3: A list of quantiles you want to find. Default value [0.01, 0.25, 0.5, 0.75, 0.99]\n",
    "\n",
    "    Output\n",
    "    Returns a dictionary with quantiles as keys and column quantile values as values\n",
    "    \"\"\"\n",
    "    # Get min, max and quantile values for given column\n",
    "    min_val = df.agg(F.min(col_name)).first()[0]\n",
    "    max_val = df.agg(F.max(col_name)).first()[0]\n",
    "    quantiles_vals = df.approxQuantile(col_name,\n",
    "                                       quantiles_list,\n",
    "                                       0)\n",
    "\n",
    "    # Store min, quantiles and max in output dict, sequentially\n",
    "    quantiles_dict = {0.0:min_val}\n",
    "    quantiles_dict.update(dict(zip(quantiles_list, quantiles_vals)))\n",
    "    quantiles_dict.update({1.0:max_val})\n",
    "    return(quantiles_dict)"
   ]
  },
  {
   "cell_type": "code",
   "execution_count": 36,
   "id": "fd778e44",
   "metadata": {
    "id": "fd778e44"
   },
   "outputs": [],
   "source": [
    "def plot_bucketwise_statistics (summary, bucketizer):\n",
    "    \"\"\"\n",
    "    Takes in a dataframe and a bucketizer object and plots the summary statistics for each bucket in the dataframe.\n",
    "\n",
    "    Inputs\n",
    "    Argument 1: Pandas dataframe obtained from bucket_col_print_summary function\n",
    "    Argument 2: Bucketizer object obtained from bucket_col_print_summary function\n",
    "\n",
    "    Output\n",
    "    Displays a plot of bucketwise average ratings nunber of ratings of a parameter.\n",
    "    \"\"\"\n",
    "    # Creating bucket labels from splits\n",
    "    classlist = bucketizer.getSplits()\n",
    "    number_of_classes = len(classlist) - 1\n",
    "\n",
    "    class_labels = []\n",
    "    hover_labels = []\n",
    "    for i in range (number_of_classes):\n",
    "        hover_labels.append(str(classlist[i])+\"-\"+str(classlist[i+1]) +\" (Bucket name: \"+ str(int(i)) +\")\"  )\n",
    "        class_labels.append(str(classlist[i])+\"-\"+str(classlist[i+1]) )\n",
    "\n",
    "    summary[\"Scaled_number\"] = (summary[\"n_ratings\"]-summary[\"n_ratings\"].min())/(summary[\"n_ratings\"].max()-summary[\"n_ratings\"].min()) + 1.5\n",
    "    summary['Bucket_Names'] = class_labels\n",
    "\n",
    "    # making plot\n",
    "    x = summary[\"Bucket_Names\"]\n",
    "    y1 = summary[\"avg_rating\"]\n",
    "    y2 = summary[\"n_ratings\"]\n",
    "    err = summary[\"stddev_rating\"]\n",
    "\n",
    "    # Plot scatter here\n",
    "    plt.rcParams[\"figure.figsize\"] = [summary.shape[0]+2, 6.0]\n",
    "    plt.rcParams[\"figure.autolayout\"] = True\n",
    "    fig, ax1 = plt.subplots()\n",
    "\n",
    "    bar = ax1.bar(x, y1, color = \"#262261\")\n",
    "    ax1.errorbar(x, y1, yerr=err, fmt=\"o\", color=\"#EE4036\")\n",
    "    ax1.set(ylim=(0, 7))\n",
    "\n",
    "    #ax1.bar_label(bar , fmt='%.2f', label_type='edge')\n",
    "    def barlabel(x_list,y_list):\n",
    "        for i in range(len(x_list)):\n",
    "            ax1.text(i,y_list[i] + 0.2,y_list[i], ha = 'center',\n",
    "  \t\t\t         fontdict=dict(size=10),\n",
    "  \t\t\t         bbox=dict(facecolor='#262261', alpha=0.2)\n",
    "  \t\t\t        )\n",
    "    barlabel(summary[\"Bucket_Names\"].tolist() ,summary[\"avg_rating\"].round(2).tolist())\n",
    "\n",
    "    ax2 = ax1.twinx()\n",
    "    ax2.scatter(x, y2, s=summary[\"Scaled_number\"]*500, c = '#FAAF40')\n",
    "    ax2.set(ylim=(0, summary[\"n_ratings\"].max()*1.15))\n",
    "    def scatterlabel(x_list,y_list):\n",
    "  \t    for i in range(len(x_list)):\n",
    "  \t\t    ax2.text(i,y_list[i] + 15000,y_list[i], ha = 'center',\n",
    "  \t\t\t\t\t fontdict=dict(size=10),\n",
    "                     bbox=dict(facecolor='#FAAF40', alpha=0.5)\n",
    "  \t\t\t\t\t)\n",
    "    scatterlabel(summary[\"Bucket_Names\"].tolist() ,summary[\"n_ratings\"].tolist())\n",
    "\n",
    "    # giving labels to the axises\n",
    "    ax1.set_xlabel(bucketizer.getOutputCol(), fontdict=dict(size=14))\n",
    "    ax1.set_ylabel(\"Average Ratings\",fontdict=dict(size=14))\n",
    "\n",
    "    # secondary y-axis label\n",
    "    ax2.set_ylabel('Number of Ratings',fontdict=dict(size=14))\n",
    "\n",
    "    #plot Title\n",
    "    plt.title('Bucketwise average ratings and number of ratings for \\n'+bucketizer.getInputCol(),\n",
    "              fontdict=dict(size=14))"
   ]
  },
  {
   "cell_type": "code",
   "execution_count": 37,
   "id": "dbeab3bb",
   "metadata": {
    "id": "dbeab3bb"
   },
   "outputs": [],
   "source": [
    "def bucket_col_print_summary(df, splits, inputCol, outputCol):\n",
    "    \"\"\"\n",
    "    Given a numerical column in a data frame, adds a bucketized version of the column to the data frame, according to splits provided.\n",
    "    Also prints a summary of ratings seen in each bucket made.\n",
    "\n",
    "    Inputs\n",
    "    Argument 1: Data Frame\n",
    "    Argument 2: Values at which the column will be split\n",
    "    Argument 3: Name of the input column (numerical column)\n",
    "    Argument 4: Name of the output column (bucketized numerical column)\n",
    "\n",
    "    Output:\n",
    "    1) New dataframe with the output column added\n",
    "    2) Bucketizer object trained from the input column\n",
    "    3) Pandas dataframe with summary statistics for ratings seen in buckets of the output column\n",
    "    Also plots summary statistics for ratings seen in buckets of the output column\n",
    "    \"\"\"\n",
    "\n",
    "    # Dropping bucket if it already exists\n",
    "    if outputCol in df.columns:\n",
    "        df = df.drop(outputCol)\n",
    "\n",
    "    # Training bucketizer\n",
    "    bucketizer = Bucketizer(splits = splits,\n",
    "                            inputCol  = inputCol,\n",
    "                            outputCol = outputCol)\n",
    "\n",
    "    df = bucketizer.setHandleInvalid(\"keep\").transform(df)\n",
    "\n",
    "    # Printing meta information on buckets created\n",
    "    print(\"Added bucketized column {}\".format(outputCol))\n",
    "    print(\"\")\n",
    "    print(\"Bucketing done for split definition: {}\".format(splits))\n",
    "    print(\"\")\n",
    "    print(\"Printing summary statistics for ratings in buckets below:\")\n",
    "\n",
    "    # Creating a summary statistics dataframe and passing it to the plotting function\n",
    "    summary =  (df\n",
    "                .groupBy(outputCol)\n",
    "                .agg(F.avg('rating').alias('avg_rating'),\n",
    "                     F.stddev('rating').alias('stddev_rating'),\n",
    "                     F.count('rating').alias('n_ratings'))\n",
    "                .sort(outputCol)\n",
    "                .toPandas())\n",
    "\n",
    "    plot_bucketwise_statistics(summary,bucketizer)\n",
    "\n",
    "    return df, bucketizer, summary"
   ]
  },
  {
   "cell_type": "code",
   "execution_count": 38,
   "id": "f3b49149",
   "metadata": {
    "id": "f3b49149"
   },
   "outputs": [],
   "source": [
    "def get_column_distribution_summary(df, col_name):\n",
    "    \"\"\"\n",
    "    Takes a column in a data frame and prints the summary statistics (average, standard deviation, count and distinct count) for all unique values in that column.\n",
    "\n",
    "    Inputs\n",
    "    Argument 1: Dataframe\n",
    "    Argument 2: Name of the column\n",
    "\n",
    "    Output\n",
    "    Returns nothing\n",
    "    Prints a Dataframe with summary statistics\n",
    "    \"\"\"\n",
    "    print(df\n",
    "          .groupBy(col_name)\n",
    "          .agg(F.avg('rating').alias('avg_rating'),\n",
    "               F.stddev('rating').alias('stddev_rating'),\n",
    "               F.count('rating').alias('n_ratings'),\n",
    "               F.countDistinct('id').alias('n_recipes'))\n",
    "          .sort(F.col(col_name).asc())\n",
    "          .show(50))"
   ]
  },
  {
   "cell_type": "code",
   "execution_count": 39,
   "id": "332b765e",
   "metadata": {
    "id": "332b765e"
   },
   "outputs": [],
   "source": [
    "def get_n_items_satisfying_condition (df, condition, aggregation_level = \"recipe\"):\n",
    "    \"\"\"\n",
    "    Given a condition, find the number of recipes / reviews that match the condition.\n",
    "    Also calculates the percentage of such recipes / reviews as a percentage of all recipes / reviews.\n",
    "\n",
    "    Inputs\n",
    "    Argument 1: Dataframe\n",
    "    Argument 2: Logical expression describing a condition, string type. eg: \"minutes == 0\"\n",
    "    Argument 3: Aggregation level for determining \"items\", either  \"recipe\" or \"review\". Default value == \"recipe\"\n",
    "\n",
    "    Output: Returns no object.\n",
    "    Prints the following:\n",
    "    1) Number of recipes / reviews that satisfy the condition\n",
    "    2) Total number of recipes / reviews in the dataframe\n",
    "    3) Percentage of recipes / reviews that satisfy the condition\n",
    "    \"\"\"\n",
    "    # Find out num rows satisfying the condition\n",
    "    if aggregation_level == \"recipe\":\n",
    "        number_of_rows_satisfying_condition = (df\n",
    "                                             .filter(condition)\n",
    "                                             .agg(F.countDistinct(\"id\"))).first()[0]\n",
    "\n",
    "        n_rows_total = (df.agg(F.countDistinct(\"id\"))).first()[0]\n",
    "    if aggregation_level == \"review\":\n",
    "        number_of_rows_satisfying_condition = (df\n",
    "                                             .filter(condition)\n",
    "                                             .agg(F.countDistinct(\"id\",\"user_id\"))).first()[0]\n",
    "        n_rows_total = (df.agg(F.countDistinct(\"id\",\"user_id\"))).first()[0]\n",
    "\n",
    "    # Find out % rows satisfying the conditon and print a properly formatted output\n",
    "    perc_rows = round(number_of_rows_satisfying_condition * 100/ n_rows_total, 2)\n",
    "    print('Condition String                   : \"{}\"'.format(condition))\n",
    "    print(\"Num {}s Satisfying Condition   : {} [{}%]\".format(aggregation_level.title(), number_of_rows_satisfying_condition, perc_rows))\n",
    "    print(\"Total Num {}s                  : {}\".format(aggregation_level.title(), n_rows_total))"
   ]
  },
  {
   "cell_type": "markdown",
   "id": "eefe5257",
   "metadata": {
    "id": "eefe5257"
   },
   "source": [
    "## Read & Check the data"
   ]
  },
  {
   "cell_type": "code",
   "execution_count": 40,
   "id": "78b6b4d8",
   "metadata": {
    "id": "78b6b4d8"
   },
   "outputs": [],
   "source": [
    "# Code check cell\n",
    "# Do not edit cells with assert commands\n",
    "# If an error is shown after running this cell, please recheck your code.\n",
    "\n",
    "assert interaction_level_df.count() == 1132367, \"There is a mistake in reading the data.\"\n",
    "assert len(interaction_level_df.columns) == 33, \"There is a mistake in reading the data.\""
   ]
  },
  {
   "cell_type": "code",
   "execution_count": 41,
   "id": "4c11b314",
   "metadata": {
    "colab": {
     "base_uri": "https://localhost:8080/"
    },
    "id": "4c11b314",
    "outputId": "8d13bd8c-3cf4-4a4c-db7f-8d7b0c3bf053"
   },
   "outputs": [
    {
     "name": "stdout",
     "output_type": "stream",
     "text": [
      "+-------+---------+------+--------------------+-----------+--------------------+---+-------+--------------+----------+--------------------+--------------------+-------+--------------------+--------------------+--------------------+-------------+--------+-------------+---------+----------+-----------+-----------------+-----------------+---------------------+-------------------+------------------+-------------------+-------------------------+-------------------------+------------------------------------+--------------------------------------+-------------------------------------+\n",
      "|user_id|recipe_id|rating|              review|review_date|                name| id|minutes|contributor_id| submitted|                tags|           nutrition|n_steps|               steps|         description|         ingredients|n_ingredients|calories|total_fat_PDV|sugar_PDV|sodium_PDV|protein_PDV|saturated_fat_PDV|carbohydrates_PDV|total_fat_per_100_cal|  sugar_per_100_cal|sodium_per_100_cal|protein_per_100_cal|saturated_fat_per_100_cal|carbohydrates_per_100_cal|days_since_submission_on_review_date|months_since_submission_on_review_date|years_since_submission_on_review_date|\n",
      "+-------+---------+------+--------------------+-----------+--------------------+---+-------+--------------+----------+--------------------+--------------------+-------+--------------------+--------------------+--------------------+-------------+--------+-------------+---------+----------+-----------+-----------------+-----------------+---------------------+-------------------+------------------+-------------------+-------------------------+-------------------------+------------------------------------+--------------------------------------+-------------------------------------+\n",
      "| 557764|       53|     3|First Jimmy let m...| 2009-07-09|jimmy g s carrot ...| 53|    110|          1772|1999-09-08|[weeknight, time-...|372.9, 16.0, 163....|     15|['grease and ligh...|                    |['all-purpose flo...|           13|   372.9|         16.0|    163.0|       7.0|       13.0|             16.0|             22.0|    4.290694626410088|  43.71145150655277|1.8771788990544134| 3.4861893839581963|        4.290694626410088|        5.899705111313871|                                3592|                          118.03225806|                          9.836021505|\n",
      "| 269153|       81|     5|This is FANTASTIC...| 2006-03-09|all purpose quick...| 81|     40|        125579|1999-09-10|[60-minutes-or-le...|529.3, 37.0, 1.0,...|     36|['blend flours , ...|--adopted recipe-...|['whole wheat flo...|            5|   529.3|         37.0|      1.0|      36.0|       22.0|             73.0|             23.0|   6.9903647937494835|0.18892877820944548|6.8014360155400375|  4.156433120607801|       13.791800809289521|        4.345361898817246|                                2372|                           77.96774194|                    6.497311828333333|\n",
      "| 985729|       81|     5|I have made sever...| 2010-05-23|all purpose quick...| 81|     40|        125579|1999-09-10|[60-minutes-or-le...|529.3, 37.0, 1.0,...|     36|['blend flours , ...|--adopted recipe-...|['whole wheat flo...|            5|   529.3|         37.0|      1.0|      36.0|       22.0|             73.0|             23.0|   6.9903647937494835|0.18892877820944548|6.8014360155400375|  4.156433120607801|       13.791800809289521|        4.345361898817246|                                3908|                          128.41935484|                   10.701612903333334|\n",
      "|  27678|       85|     5|A perfect cake. I...| 2005-03-25| butter madeira cake| 85|    175|          1543|1999-09-12|[weeknight, time-...|373.8, 30.0, 88.0...|     15|['grease lined ti...|this is a good st...|['flour', 'baking...|            7|   373.8|         30.0|     88.0|      10.0|       11.0|             59.0|             14.0|     8.02568244507693|  23.54200183889233|  2.67522748169231|  2.942750229861541|       15.783842141984628|        3.745318474369234|                                2021|                           66.41935484|                    5.534946236666666|\n",
      "| 273254|       85|     5|This recipe is so...| 2009-02-09| butter madeira cake| 85|    175|          1543|1999-09-12|[weeknight, time-...|373.8, 30.0, 88.0...|     15|['grease lined ti...|this is a good st...|['flour', 'baking...|            7|   373.8|         30.0|     88.0|      10.0|       11.0|             59.0|             14.0|     8.02568244507693|  23.54200183889233|  2.67522748169231|  2.942750229861541|       15.783842141984628|        3.745318474369234|                                3438|                          112.90322581|                    9.408602150833334|\n",
      "+-------+---------+------+--------------------+-----------+--------------------+---+-------+--------------+----------+--------------------+--------------------+-------+--------------------+--------------------+--------------------+-------------+--------+-------------+---------+----------+-----------+-----------------+-----------------+---------------------+-------------------+------------------+-------------------+-------------------------+-------------------------+------------------------------------+--------------------------------------+-------------------------------------+\n",
      "only showing top 5 rows\n",
      "\n"
     ]
    }
   ],
   "source": [
    "interaction_level_df.show(5)"
   ]
  },
  {
   "cell_type": "markdown",
   "id": "eb8336fb",
   "metadata": {
    "id": "eb8336fb"
   },
   "source": [
    "## Bucketing and Cleaning Numerical Features"
   ]
  },
  {
   "cell_type": "markdown",
   "id": "a259fc10",
   "metadata": {
    "id": "a259fc10"
   },
   "source": [
    "#### **1. `years_since_submission_on_review_date`**\n",
    "[Review Time Since Submission]\n",
    "- Recipes more than 6 years old are rated low"
   ]
  },
  {
   "cell_type": "code",
   "execution_count": 42,
   "id": "1ea3b45b",
   "metadata": {
    "colab": {
     "base_uri": "https://localhost:8080/"
    },
    "id": "1ea3b45b",
    "outputId": "715e283f-38f3-4b0b-c2de-69a8e02ebb1b"
   },
   "outputs": [
    {
     "data": {
      "text/plain": [
       "{0.0: -4.833333333333333,\n",
       " 0.01: 0.005376344166666667,\n",
       " 0.25: 0.8602150541666668,\n",
       " 0.5: 2.9489247308333333,\n",
       " 0.75: 5.844086021666667,\n",
       " 0.99: 14.626344085833333,\n",
       " 1.0: 19.284946236666666}"
      ]
     },
     "execution_count": 42,
     "metadata": {},
     "output_type": "execute_result"
    }
   ],
   "source": [
    "get_quantiles(df = interaction_level_df,\n",
    "              col_name = \"years_since_submission_on_review_date\")"
   ]
  },
  {
   "cell_type": "code",
   "execution_count": 43,
   "id": "109d40df",
   "metadata": {
    "colab": {
     "base_uri": "https://localhost:8080/"
    },
    "id": "109d40df",
    "outputId": "13af1551-4c77-4ee6-f856-879d716b533d"
   },
   "outputs": [
    {
     "name": "stdout",
     "output_type": "stream",
     "text": [
      "Condition String                   : \"years_since_submission_on_review_date < 0\"\n",
      "Num Reviews Satisfying Condition   : 1246 [0.11%]\n",
      "Total Num Reviews                  : 1132367\n"
     ]
    }
   ],
   "source": [
    "get_n_items_satisfying_condition(df = interaction_level_df,\n",
    "                                 condition= 'years_since_submission_on_review_date < 0',\n",
    "                                 aggregation_level= \"review\")"
   ]
  },
  {
   "cell_type": "code",
   "execution_count": 44,
   "id": "ab2add13",
   "metadata": {
    "id": "ab2add13"
   },
   "outputs": [],
   "source": [
    "# Only keep interactions with review dates >= recipe submission date\n",
    "\n",
    "interaction_level_df = (interaction_level_df\n",
    "                        .filter('years_since_submission_on_review_date >= 0'))"
   ]
  },
  {
   "cell_type": "code",
   "execution_count": 45,
   "id": "b793c35c",
   "metadata": {
    "colab": {
     "base_uri": "https://localhost:8080/",
     "height": 694
    },
    "id": "b793c35c",
    "outputId": "4c193c84-743a-4e2e-df4e-cf10fd6ca846"
   },
   "outputs": [
    {
     "name": "stdout",
     "output_type": "stream",
     "text": [
      "Added bucketized column years_since_submission_on_review_date_bucket\n",
      "\n",
      "Bucketing done for split definition: [0, 1, 3, 6, inf]\n",
      "\n",
      "Printing summary statistics for ratings in buckets below:\n"
     ]
    },
    {
     "data": {
      "image/png": "[encoded data removed]",
      "text/plain": [
       "<Figure size 600x600 with 2 Axes>"
      ]
     },
     "metadata": {},
     "output_type": "display_data"
    }
   ],
   "source": [
    "splits = [ 0, 1, 3, 6, float('Inf')]\n",
    "inputCol  = \"years_since_submission_on_review_date\"\n",
    "outputCol = \"years_since_submission_on_review_date_bucket\"\n",
    "\n",
    "(interaction_level_df, submission_time_bucketizer, submission_time_pandas_df) = bucket_col_print_summary(df = interaction_level_df,\n",
    "                                                                              splits = splits,\n",
    "                                                                              inputCol  = inputCol,\n",
    "                                                                              outputCol = outputCol)"
   ]
  },
  {
   "cell_type": "markdown",
   "id": "7ee68eb7",
   "metadata": {
    "id": "7ee68eb7"
   },
   "source": [
    "#### **2. `minutes`**\n",
    "\n",
    "[prep time]\n",
    "- Somewhat relevant\n",
    "- Low prep time is preferred"
   ]
  },
  {
   "cell_type": "code",
   "execution_count": 46,
   "id": "ca0fcaa5",
   "metadata": {
    "colab": {
     "base_uri": "https://localhost:8080/"
    },
    "id": "ca0fcaa5",
    "outputId": "a4437620-a277-46a5-eea4-103da16244ec"
   },
   "outputs": [
    {
     "data": {
      "text/plain": [
       "{0.0: 0,\n",
       " 0.01: 2.0,\n",
       " 0.05: 5.0,\n",
       " 0.25: 20.0,\n",
       " 0.5: 40.0,\n",
       " 0.75: 70.0,\n",
       " 0.95: 310.0,\n",
       " 0.99: 930.0,\n",
       " 1.0: 2147483647}"
      ]
     },
     "execution_count": 46,
     "metadata": {},
     "output_type": "execute_result"
    }
   ],
   "source": [
    "get_quantiles(df = interaction_level_df,\n",
    "              col_name = \"minutes\",\n",
    "              quantiles_list=[0.01, 0.05, 0.25, 0.5, 0.75, 0.95, 0.99])"
   ]
  },
  {
   "cell_type": "code",
   "execution_count": 47,
   "id": "f5db6935",
   "metadata": {
    "id": "f5db6935"
   },
   "outputs": [],
   "source": [
    "# Capping prep time at 930 minutes\n",
    "\n",
    "interaction_level_df = (interaction_level_df\n",
    "                        .withColumn(\"minutes\",\n",
    "                                    F.when(interaction_level_df[\"minutes\"] > 930, 930)\n",
    "                                     .otherwise(interaction_level_df[\"minutes\"])))"
   ]
  },
  {
   "cell_type": "code",
   "execution_count": 48,
   "id": "241507ab",
   "metadata": {
    "colab": {
     "base_uri": "https://localhost:8080/"
    },
    "id": "241507ab",
    "outputId": "2c68a640-8bb7-47c1-fb20-d659ddd753e7"
   },
   "outputs": [
    {
     "name": "stdout",
     "output_type": "stream",
     "text": [
      "+----------------+------------------+------------------+---------+---------+\n",
      "|n_steps_modified|        avg_rating|     stddev_rating|n_ratings|n_recipes|\n",
      "+----------------+------------------+------------------+---------+---------+\n",
      "|              01|              4.24|1.0908712114635715|       25|       12|\n",
      "|              02|4.4423076923076925|  1.08678668673504|      104|       28|\n",
      "|              03| 3.989130434782609|1.5750414356065066|      184|       44|\n",
      "|              04|  4.30635838150289|1.3867374413641127|      173|       57|\n",
      "|              05| 4.231788079470198|1.3563861924663059|      302|       90|\n",
      "|              06|       4.470703125|1.1463893346523666|      512|      102|\n",
      "|              07|4.3447432762836184|1.2875641979464003|      409|       92|\n",
      "|              08| 4.381995133819951| 1.277408546667124|      411|       92|\n",
      "|              09| 4.076190476190476| 1.527008887317695|      315|       86|\n",
      "|           >= 10| 4.240963855421687|1.3768155493871757|     2075|      491|\n",
      "+----------------+------------------+------------------+---------+---------+\n",
      "\n",
      "None\n"
     ]
    }
   ],
   "source": [
    "# investigating recipes with minutes = 0 -> Look at n_steps for such recipes.\n",
    "\n",
    "get_column_distribution_summary(df = (interaction_level_df\n",
    "                                      .filter('minutes == 0')\n",
    "                                      .withColumn('n_steps_modified', (F.when(interaction_level_df['n_steps'] >= 10, \">= 10\")\n",
    "                                                                        .otherwise(F.lpad(interaction_level_df['n_steps'],2,\"0\"))))),\n",
    "                                col_name = 'n_steps_modified')"
   ]
  },
  {
   "cell_type": "code",
   "execution_count": 49,
   "id": "7a9fabe2",
   "metadata": {
    "colab": {
     "base_uri": "https://localhost:8080/"
    },
    "id": "7a9fabe2",
    "outputId": "df53f762-35f4-4722-bf72-9207ec9782da"
   },
   "outputs": [
    {
     "name": "stdout",
     "output_type": "stream",
     "text": [
      "+-------+---------+------+--------------------+-----------+-------------------+----+-------+--------------+----------+--------------------+--------------------+-------+--------------------+--------------------+--------------------+-------------+--------+-------------+---------+----------+-----------+-----------------+-----------------+---------------------+-----------------+------------------+-------------------+-------------------------+-------------------------+------------------------------------+--------------------------------------+-------------------------------------+--------------------------------------------+\n",
      "|user_id|recipe_id|rating|              review|review_date|               name|  id|minutes|contributor_id| submitted|                tags|           nutrition|n_steps|               steps|         description|         ingredients|n_ingredients|calories|total_fat_PDV|sugar_PDV|sodium_PDV|protein_PDV|saturated_fat_PDV|carbohydrates_PDV|total_fat_per_100_cal|sugar_per_100_cal|sodium_per_100_cal|protein_per_100_cal|saturated_fat_per_100_cal|carbohydrates_per_100_cal|days_since_submission_on_review_date|months_since_submission_on_review_date|years_since_submission_on_review_date|years_since_submission_on_review_date_bucket|\n",
      "+-------+---------+------+--------------------+-----------+-------------------+----+-------+--------------+----------+--------------------+--------------------+-------+--------------------+--------------------+--------------------+-------------+--------+-------------+---------+----------+-----------+-----------------+-----------------+---------------------+-----------------+------------------+-------------------+-------------------------+-------------------------+------------------------------------+--------------------------------------+-------------------------------------+--------------------------------------------+\n",
      "|  26142|     3572|     5|Thanks  Great Rec...| 2001-12-14|apple snicker salad|3572|      0|          1754|1999-09-23|[15-minutes-or-le...|1540.7, 123.0, 66...|      1|['stir these into...|here is a simple ...|['yellow apples',...|            4|  1540.7|        123.0|    666.0|      13.0|       29.0|            289.0|             67.0|    7.983384429034655|43.22710593282179| 0.843772338028053|  1.882261369447195|       18.757708130008254|        4.348672819067658|                                 813|                           26.70967742|                   2.2258064516666667|                                         1.0|\n",
      "|  50053|     3572|     5|I loved this reci...| 2003-01-03|apple snicker salad|3572|      0|          1754|1999-09-23|[15-minutes-or-le...|1540.7, 123.0, 66...|      1|['stir these into...|here is a simple ...|['yellow apples',...|            4|  1540.7|        123.0|    666.0|      13.0|       29.0|            289.0|             67.0|    7.983384429034655|43.22710593282179| 0.843772338028053|  1.882261369447195|       18.757708130008254|        4.348672819067658|                                1198|                           39.35483871|                         3.2795698925|                                         2.0|\n",
      "| 149415|     3572|     4|What's not to lik...| 2004-09-21|apple snicker salad|3572|      0|          1754|1999-09-23|[15-minutes-or-le...|1540.7, 123.0, 66...|      1|['stir these into...|here is a simple ...|['yellow apples',...|            4|  1540.7|        123.0|    666.0|      13.0|       29.0|            289.0|             67.0|    7.983384429034655|43.22710593282179| 0.843772338028053|  1.882261369447195|       18.757708130008254|        4.348672819067658|                                1825|                           59.93548387|                    4.994623655833333|                                         2.0|\n",
      "|1048952|     3572|     5|I brought this to...| 2009-07-25|apple snicker salad|3572|      0|          1754|1999-09-23|[15-minutes-or-le...|1540.7, 123.0, 66...|      1|['stir these into...|here is a simple ...|['yellow apples',...|            4|  1540.7|        123.0|    666.0|      13.0|       29.0|            289.0|             67.0|    7.983384429034655|43.22710593282179| 0.843772338028053|  1.882261369447195|       18.757708130008254|        4.348672819067658|                                3593|                          118.06451613|                         9.8387096775|                                         3.0|\n",
      "|  11285|     5281|     5|Easy to make  swe...| 2001-06-18|creamsicle cocktail|5281|      0|          1549|1999-12-05|[15-minutes-or-le...|659.9, 25.0, 243....|      1|['blenderize all ...|                    |['triple sec', 'v...|            4|   659.9|         25.0|    243.0|       4.0|       15.0|             49.0|             23.0|   3.7884526557182605|36.82375981358149|0.6061524249149217|  2.273071593430956|        7.425367205207791|       3.4853764432607997|                                 561|                           18.41935484|                   1.5349462366666666|                                         1.0|\n",
      "+-------+---------+------+--------------------+-----------+-------------------+----+-------+--------------+----------+--------------------+--------------------+-------+--------------------+--------------------+--------------------+-------------+--------+-------------+---------+----------+-----------+-----------------+-----------------+---------------------+-----------------+------------------+-------------------+-------------------------+-------------------------+------------------------------------+--------------------------------------+-------------------------------------+--------------------------------------------+\n",
      "only showing top 5 rows\n",
      "\n"
     ]
    }
   ],
   "source": [
    "# let's look at some examples with 1 step only to see if this makes sense\n",
    "\n",
    "interaction_level_df.filter('minutes == 0 and n_steps == 1').show(5)"
   ]
  },
  {
   "cell_type": "code",
   "execution_count": 50,
   "id": "2ac863f3",
   "metadata": {
    "colab": {
     "base_uri": "https://localhost:8080/"
    },
    "id": "2ac863f3",
    "outputId": "e3603db0-bc12-4168-c317-de374259d919"
   },
   "outputs": [
    {
     "name": "stdout",
     "output_type": "stream",
     "text": [
      "Condition String                   : \"minutes == 0\"\n",
      "Num Recipes Satisfying Condition   : 1094 [0.47%]\n",
      "Total Num Recipes                  : 231501\n"
     ]
    }
   ],
   "source": [
    "get_n_items_satisfying_condition(df = interaction_level_df,\n",
    "                                 condition = 'minutes == 0',\n",
    "                                 aggregation_level = \"recipe\")"
   ]
  },
  {
   "cell_type": "code",
   "execution_count": 51,
   "id": "496f1331",
   "metadata": {
    "id": "496f1331"
   },
   "outputs": [],
   "source": [
    "# Remove recipes with cook time zero\n",
    "\n",
    "interaction_level_df = interaction_level_df.filter(\"minutes > 0\")"
   ]
  },
  {
   "cell_type": "code",
   "execution_count": 52,
   "id": "805b5baa",
   "metadata": {
    "colab": {
     "base_uri": "https://localhost:8080/",
     "height": 694
    },
    "id": "805b5baa",
    "outputId": "9a63d5ec-e411-4835-8be9-24cddb18f169"
   },
   "outputs": [
    {
     "name": "stdout",
     "output_type": "stream",
     "text": [
      "Added bucketized column prep_time_bucket\n",
      "\n",
      "Bucketing done for split definition: [0, 5, 15, 30, 60, 300, 900, inf]\n",
      "\n",
      "Printing summary statistics for ratings in buckets below:\n"
     ]
    },
    {
     "data": {
      "image/png": "[encoded data removed]",
      "text/plain": [
       "<Figure size 900x600 with 2 Axes>"
      ]
     },
     "metadata": {},
     "output_type": "display_data"
    }
   ],
   "source": [
    "splits = [0, 5, 15, 30, 60, 300, 900, float('Inf')]\n",
    "inputCol  = \"minutes\"\n",
    "outputCol = \"prep_time_bucket\"\n",
    "\n",
    "(interaction_level_df, prep_time_bucketizer, prep_time_summary_pandas_df) = bucket_col_print_summary(df = interaction_level_df,\n",
    "                                                                              splits = splits,\n",
    "                                                                              inputCol  = inputCol,\n",
    "                                                                              outputCol = outputCol)"
   ]
  },
  {
   "cell_type": "markdown",
   "id": "f3cb6116",
   "metadata": {
    "id": "f3cb6116"
   },
   "source": [
    "**3. `n_steps`**\n",
    "\n",
    "- Clearly relevant\n",
    "- Recipes with less than 2 steps are rated high\n",
    "- Recipes with more than 29 steps are rated very low"
   ]
  },
  {
   "cell_type": "code",
   "execution_count": 53,
   "id": "e9e340a1",
   "metadata": {
    "colab": {
     "base_uri": "https://localhost:8080/"
    },
    "id": "e9e340a1",
    "outputId": "d18336e7-4bc6-4c80-95b2-93277c5f91a6"
   },
   "outputs": [
    {
     "data": {
      "text/plain": [
       "{0.0: 0, 0.01: 2.0, 0.25: 6.0, 0.5: 8.0, 0.75: 12.0, 0.99: 29.0, 1.0: 145}"
      ]
     },
     "execution_count": 53,
     "metadata": {},
     "output_type": "execute_result"
    }
   ],
   "source": [
    "get_quantiles(df = interaction_level_df,\n",
    "              col_name = \"n_steps\")"
   ]
  },
  {
   "cell_type": "code",
   "execution_count": 54,
   "id": "3d91bb55",
   "metadata": {
    "colab": {
     "base_uri": "https://localhost:8080/"
    },
    "id": "3d91bb55",
    "outputId": "3d532bfc-0787-4849-e9e5-427a8555af61"
   },
   "outputs": [
    {
     "name": "stdout",
     "output_type": "stream",
     "text": [
      "+-------+---------+------+----------------------------------------------------------------------------------------------------------------------------------------------------------------------------------------------------------------------------------------------------------------------------------------------------------------------------------------------------------------------------------------------------------------------------------------------------------------------------------------------------------------------------------------------------------------------------------------------------------------------------------------------------------------------------------------------------------+-----------+----------------+------+-------+--------------+----------+----------------------------------------------------------------------------------------------------------------------------------------------------------------------------------------------------------------------------------------------------------------------------------------------------------------------------------------------+---------------------------------------+-------+-----+----------------------------------------------------------------------------------------------------------------------------------------------------------------------------------------------------------------------------------------------------------+----------------------------------------------------------------------------------------------------------------------------------------------------------+-------------+--------+-------------+---------+----------+-----------+-----------------+-----------------+---------------------+-----------------+------------------+-------------------+-------------------------+-------------------------+------------------------------------+--------------------------------------+-------------------------------------+--------------------------------------------+----------------+\n",
      "|user_id|recipe_id|rating|review                                                                                                                                                                                                                                                                                                                                                                                                                                                                                                                                                                                                                                                                                                    |review_date|name            |id    |minutes|contributor_id|submitted |tags                                                                                                                                                                                                                                                                                                                                          |nutrition                              |n_steps|steps|description                                                                                                                                                                                                                                               |ingredients                                                                                                                                               |n_ingredients|calories|total_fat_PDV|sugar_PDV|sodium_PDV|protein_PDV|saturated_fat_PDV|carbohydrates_PDV|total_fat_per_100_cal|sugar_per_100_cal|sodium_per_100_cal|protein_per_100_cal|saturated_fat_per_100_cal|carbohydrates_per_100_cal|days_since_submission_on_review_date|months_since_submission_on_review_date|years_since_submission_on_review_date|years_since_submission_on_review_date_bucket|prep_time_bucket|\n",
      "+-------+---------+------+----------------------------------------------------------------------------------------------------------------------------------------------------------------------------------------------------------------------------------------------------------------------------------------------------------------------------------------------------------------------------------------------------------------------------------------------------------------------------------------------------------------------------------------------------------------------------------------------------------------------------------------------------------------------------------------------------------+-----------+----------------+------+-------+--------------+----------+----------------------------------------------------------------------------------------------------------------------------------------------------------------------------------------------------------------------------------------------------------------------------------------------------------------------------------------------+---------------------------------------+-------+-----+----------------------------------------------------------------------------------------------------------------------------------------------------------------------------------------------------------------------------------------------------------+----------------------------------------------------------------------------------------------------------------------------------------------------------+-------------+--------+-------------+---------+----------+-----------+-----------------+-----------------+---------------------+-----------------+------------------+-------------------+-------------------------+-------------------------+------------------------------------+--------------------------------------+-------------------------------------+--------------------------------------------+----------------+\n",
      "|38218  |176767   |5     |This is a little bit different from my usual recipie (which I've lost). but it makes a lovely  fragrant loaf.  Sublime with a smear of cream cheese.  I've only tried the carrot so far  but that was such a success I can't wait to try the others.  I made as directed with rasins and walnuts.                                                                                                                                                                                                                                                                                                                                                                                                         |2006-08-26 |all season bread|176767|90     |331268        |2006-07-10|[time-to-make, course, main-ingredient, cuisine, preparation, occasion, north-american, for-large-groups, breads, fruit, vegetables, easy, fall, spring, winter, muffins, coffee-cakes, seasonal, comfort-food, inexpensive, quick-breads, tropical-fruit, bananas, carrots, taste-mood, number-of-servings, 3-steps-or-less, 4-hours-or-less]|198.8, 11.0, 70.0, 18.0, 5.0, 5.0, 10.0|0      |[]   |just change the fruit/vegetable in this recipe and make the (tender  moist  heavy dark) bread your heart desires!  try zucchini in the summer  pumpkin in the fall   carrot-raisin in the winter  & banana-walnut in the spring.     use your imagination.|['flour', 'baking soda', 'salt', 'baking powder', 'cinnamon', 'eggs', 'white sugar', 'vegetable oil', 'real vanilla', 'raw carrots', 'raisins', 'walnuts']|12           |198.8   |11.0         |70.0     |18.0      |5.0        |5.0              |10.0             |5.533199110231471    |35.21126706510936|9.054325816742407 |2.5150905046506686 |2.5150905046506686       |5.030181009301337        |47                                  |1.51612903                            |0.12634408583333334                  |0.0                                         |4.0             |\n",
      "|233583 |176767   |4     |Made for PAC 2010  What can you say about a bread that is so versatile and readily available with ingredients on hand but YUMMO!  Made this yesterday for a snack and a healthier breakfast on the run.  I used bananas and shredded carrots and mmmm mmmm it came out very tastey.  So 1/2 disappeared before pictures could be taken but did get a shot this morning of the 1 loaf and a few muffins left over.  It came out so good I made a 2nd batch to take to the cottage for the weekend.  Quite a moist bread/muffin.  I believe I will make the zucchini variety next week as I still have some frozen from last summer harvest so out fo the freezer it comes to defrost and drain.  Thank you.|2010-04-23 |all season bread|176767|90     |331268        |2006-07-10|[time-to-make, course, main-ingredient, cuisine, preparation, occasion, north-american, for-large-groups, breads, fruit, vegetables, easy, fall, spring, winter, muffins, coffee-cakes, seasonal, comfort-food, inexpensive, quick-breads, tropical-fruit, bananas, carrots, taste-mood, number-of-servings, 3-steps-or-less, 4-hours-or-less]|198.8, 11.0, 70.0, 18.0, 5.0, 5.0, 10.0|0      |[]   |just change the fruit/vegetable in this recipe and make the (tender  moist  heavy dark) bread your heart desires!  try zucchini in the summer  pumpkin in the fall   carrot-raisin in the winter  & banana-walnut in the spring.     use your imagination.|['flour', 'baking soda', 'salt', 'baking powder', 'cinnamon', 'eggs', 'white sugar', 'vegetable oil', 'real vanilla', 'raw carrots', 'raisins', 'walnuts']|12           |198.8   |11.0         |70.0     |18.0      |5.0        |5.0              |10.0             |5.533199110231471    |35.21126706510936|9.054325816742407 |2.5150905046506686 |2.5150905046506686       |5.030181009301337        |1383                                |45.41935484                           |3.7849462366666664                   |2.0                                         |4.0             |\n",
      "+-------+---------+------+----------------------------------------------------------------------------------------------------------------------------------------------------------------------------------------------------------------------------------------------------------------------------------------------------------------------------------------------------------------------------------------------------------------------------------------------------------------------------------------------------------------------------------------------------------------------------------------------------------------------------------------------------------------------------------------------------------+-----------+----------------+------+-------+--------------+----------+----------------------------------------------------------------------------------------------------------------------------------------------------------------------------------------------------------------------------------------------------------------------------------------------------------------------------------------------+---------------------------------------+-------+-----+----------------------------------------------------------------------------------------------------------------------------------------------------------------------------------------------------------------------------------------------------------+----------------------------------------------------------------------------------------------------------------------------------------------------------+-------------+--------+-------------+---------+----------+-----------+-----------------+-----------------+---------------------+-----------------+------------------+-------------------+-------------------------+-------------------------+------------------------------------+--------------------------------------+-------------------------------------+--------------------------------------------+----------------+\n",
      "\n"
     ]
    }
   ],
   "source": [
    "interaction_level_df.filter('n_steps == 0').show(5, truncate = False)"
   ]
  },
  {
   "cell_type": "code",
   "execution_count": 55,
   "id": "517a13a6",
   "metadata": {
    "colab": {
     "base_uri": "https://localhost:8080/"
    },
    "id": "517a13a6",
    "outputId": "ca2c099a-2273-4662-affe-54762f7e0ba5"
   },
   "outputs": [
    {
     "name": "stdout",
     "output_type": "stream",
     "text": [
      "Condition String                   : \"n_steps == 0\"\n",
      "Num Recipes Satisfying Condition   : 1 [0.0%]\n",
      "Total Num Recipes                  : 230407\n"
     ]
    }
   ],
   "source": [
    "get_n_items_satisfying_condition(df = interaction_level_df,\n",
    "                                 condition = 'n_steps == 0',\n",
    "                                 aggregation_level = \"recipe\")"
   ]
  },
  {
   "cell_type": "code",
   "execution_count": 56,
   "id": "8c083aaf",
   "metadata": {
    "id": "8c083aaf"
   },
   "outputs": [],
   "source": [
    "# Remove recipes with n_steps zero\n",
    "\n",
    "interaction_level_df = interaction_level_df.filter(\"n_steps > 0\")"
   ]
  },
  {
   "cell_type": "code",
   "execution_count": 57,
   "id": "e59b61d9",
   "metadata": {
    "colab": {
     "base_uri": "https://localhost:8080/",
     "height": 694
    },
    "id": "e59b61d9",
    "outputId": "f2577bf1-a5fe-40df-fb57-39118abb6170"
   },
   "outputs": [
    {
     "name": "stdout",
     "output_type": "stream",
     "text": [
      "Added bucketized column n_steps_bucket\n",
      "\n",
      "Bucketing done for split definition: [0, 2, 6, 8, 12, 29, inf]\n",
      "\n",
      "Printing summary statistics for ratings in buckets below:\n"
     ]
    },
    {
     "data": {
      "image/png": "[encoded data removed]",
      "text/plain": [
       "<Figure size 800x600 with 2 Axes>"
      ]
     },
     "metadata": {},
     "output_type": "display_data"
    }
   ],
   "source": [
    "splits = [0, 2, 6, 8, 12, 29, float('Inf')]\n",
    "inputCol  = \"n_steps\"\n",
    "outputCol = \"n_steps_bucket\"\n",
    "\n",
    "(interaction_level_df, n_steps_bucketizer, n_steps_pandas_df) = bucket_col_print_summary(df = interaction_level_df,\n",
    "                                                                              splits = splits,\n",
    "                                                                              inputCol  = inputCol,\n",
    "                                                                              outputCol = outputCol)"
   ]
  },
  {
   "cell_type": "markdown",
   "id": "6332e3c3",
   "metadata": {
    "id": "6332e3c3"
   },
   "source": [
    "**4. `n_ingredients`**\n",
    "- Not relevant"
   ]
  },
  {
   "cell_type": "code",
   "execution_count": 58,
   "id": "6aa6ea8e",
   "metadata": {
    "colab": {
     "base_uri": "https://localhost:8080/"
    },
    "id": "6aa6ea8e",
    "outputId": "a3f7a55e-d40a-4b6c-944e-a433602768fd"
   },
   "outputs": [
    {
     "data": {
      "text/plain": [
       "{0.0: 1, 0.01: 2.0, 0.25: 6.0, 0.5: 9.0, 0.75: 11.0, 0.99: 20.0, 1.0: 43}"
      ]
     },
     "execution_count": 58,
     "metadata": {},
     "output_type": "execute_result"
    }
   ],
   "source": [
    "get_quantiles(df = interaction_level_df,\n",
    "              col_name = \"n_ingredients\")"
   ]
  },
  {
   "cell_type": "code",
   "execution_count": 59,
   "id": "fa8729f6",
   "metadata": {
    "colab": {
     "base_uri": "https://localhost:8080/",
     "height": 694
    },
    "id": "fa8729f6",
    "outputId": "463c3d36-9e30-410b-c736-567425facd40"
   },
   "outputs": [
    {
     "name": "stdout",
     "output_type": "stream",
     "text": [
      "Added bucketized column n_ingredients_bucket\n",
      "\n",
      "Bucketing done for split definition: [0, 6, 9, 11, inf]\n",
      "\n",
      "Printing summary statistics for ratings in buckets below:\n"
     ]
    },
    {
     "data": {
      "image/png": "[encoded data removed]",
      "text/plain": [
       "<Figure size 600x600 with 2 Axes>"
      ]
     },
     "metadata": {},
     "output_type": "display_data"
    }
   ],
   "source": [
    "splits = [0, 6, 9, 11, float('Inf')]\n",
    "inputCol  = \"n_ingredients\"\n",
    "outputCol = \"n_ingredients_bucket\"\n",
    "\n",
    "(interaction_level_df, n_ingredients_bucketizer, n_ingredients_pandas_df) = bucket_col_print_summary(df = interaction_level_df,\n",
    "                                                                              splits = splits,\n",
    "                                                                              inputCol  = inputCol,\n",
    "                                                                              outputCol = outputCol)"
   ]
  },
  {
   "cell_type": "markdown",
   "id": "a4dadbbf",
   "metadata": {
    "id": "a4dadbbf"
   },
   "source": [
    "**5. `nutrition` columns**"
   ]
  },
  {
   "cell_type": "markdown",
   "id": "46ec0b11",
   "metadata": {
    "id": "46ec0b11"
   },
   "source": [
    "- `calories` - Calories per serving seems irrelevant\n",
    "- `fat (per 100 cal)` - Calories per serving seems irrelevant\n",
    "- `sugar (per 100 cal)` - Calories per serving seems irrelevant\n",
    "- `sodium (per 100 cal)` - Calories per serving seems irrelevant\n",
    "- `protein (per 100 cal)` - Calories per serving seems irrelevant\n",
    "- `sat. fat (per 100 cal)` - Calories per serving seems irrelevant\n",
    "- `carbs (per 100 cal)` - Calories per serving seems irrelevant"
   ]
  },
  {
   "cell_type": "code",
   "execution_count": 60,
   "id": "24134587",
   "metadata": {
    "colab": {
     "base_uri": "https://localhost:8080/"
    },
    "id": "24134587",
    "outputId": "a3fc0bd1-3475-4081-9630-4b77ad59e0d9"
   },
   "outputs": [
    {
     "data": {
      "text/plain": [
       "['user_id',\n",
       " 'recipe_id',\n",
       " 'rating',\n",
       " 'review',\n",
       " 'review_date',\n",
       " 'name',\n",
       " 'id',\n",
       " 'minutes',\n",
       " 'contributor_id',\n",
       " 'submitted',\n",
       " 'tags',\n",
       " 'nutrition',\n",
       " 'n_steps',\n",
       " 'steps',\n",
       " 'description',\n",
       " 'ingredients',\n",
       " 'n_ingredients',\n",
       " 'calories',\n",
       " 'total_fat_PDV',\n",
       " 'sugar_PDV',\n",
       " 'sodium_PDV',\n",
       " 'protein_PDV',\n",
       " 'saturated_fat_PDV',\n",
       " 'carbohydrates_PDV',\n",
       " 'total_fat_per_100_cal',\n",
       " 'sugar_per_100_cal',\n",
       " 'sodium_per_100_cal',\n",
       " 'protein_per_100_cal',\n",
       " 'saturated_fat_per_100_cal',\n",
       " 'carbohydrates_per_100_cal',\n",
       " 'days_since_submission_on_review_date',\n",
       " 'months_since_submission_on_review_date',\n",
       " 'years_since_submission_on_review_date',\n",
       " 'years_since_submission_on_review_date_bucket',\n",
       " 'prep_time_bucket',\n",
       " 'n_steps_bucket',\n",
       " 'n_ingredients_bucket']"
      ]
     },
     "execution_count": 60,
     "metadata": {},
     "output_type": "execute_result"
    }
   ],
   "source": [
    "interaction_level_df.columns"
   ]
  },
  {
   "cell_type": "code",
   "execution_count": 61,
   "id": "99692e8e",
   "metadata": {
    "id": "99692e8e"
   },
   "outputs": [],
   "source": [
    "nutrition_cols = ['calories',\n",
    "                  'total_fat_PDV',\n",
    "                  'sugar_PDV',\n",
    "                  'sodium_PDV',\n",
    "                  'protein_PDV',\n",
    "                  'saturated_fat_PDV',\n",
    "                  'carbohydrates_PDV',\n",
    "                  'total_fat_per_100_cal',\n",
    "                  'sugar_per_100_cal',\n",
    "                  'sodium_per_100_cal',\n",
    "                  'protein_per_100_cal',\n",
    "                  'saturated_fat_per_100_cal',\n",
    "                  'carbohydrates_per_100_cal']\n",
    "\n",
    "quantiles_list = [0.00, 0.05, 0.25, 0.5, 0.75, 0.95, 1.00]\n",
    "nutrition_col_quantiles = pd.DataFrame(index = quantiles_list)"
   ]
  },
  {
   "cell_type": "code",
   "execution_count": 62,
   "id": "e7bd90c4",
   "metadata": {
    "id": "e7bd90c4"
   },
   "outputs": [],
   "source": [
    "for col in nutrition_cols:\n",
    "    nutrition_col_quantiles[col] = (get_quantiles(df = interaction_level_df,\n",
    "                                                col_name = col,\n",
    "                                                quantiles_list=quantiles_list)\n",
    "                                  .values())"
   ]
  },
  {
   "cell_type": "code",
   "execution_count": 63,
   "id": "3ac0ba78",
   "metadata": {
    "id": "3ac0ba78"
   },
   "outputs": [],
   "source": [
    "nutrition_col_quantile_summary = pd.DataFrame(index = [\"0.00-0.25\", \"0.25-0.50\", \"0.50-0.75\", \"0.75-0.95\", \"0.95 - 1.00\"])\n",
    "\n",
    "for col in nutrition_cols:\n",
    "    splits = ([0]\n",
    "            + list(nutrition_col_quantiles.loc[[0.25, 0.5, 0.75, 0.95], col].round())\n",
    "            + [float('Inf')])\n",
    "    inputCol  = col\n",
    "    outputCol = col+\"_bucket\"\n",
    "\n",
    "    if outputCol in interaction_level_df.columns:\n",
    "        interaction_level_df = interaction_level_df.drop(outputCol)\n",
    "\n",
    "  # Training bucketizer\n",
    "    bucketizer = Bucketizer(splits = splits,\n",
    "                          inputCol  = inputCol,\n",
    "                          outputCol = outputCol)\n",
    "\n",
    "    interaction_level_df = bucketizer.setHandleInvalid(\"keep\").transform(interaction_level_df)\n",
    "\n",
    "    nutrition_col_quantile_summary.loc[:, col] = (interaction_level_df\n",
    "                                                .groupBy(outputCol)\n",
    "                                                .agg(F.avg('rating').alias('avg_rating'))\n",
    "                                                .sort(outputCol)\n",
    "                                                .select('avg_rating').toPandas().values)"
   ]
  },
  {
   "cell_type": "code",
   "execution_count": 64,
   "id": "289f6e25",
   "metadata": {
    "id": "289f6e25"
   },
   "outputs": [],
   "source": [
    "# set the max columns to none\n",
    "pd.set_option('display.max_columns', None)"
   ]
  },
  {
   "cell_type": "code",
   "execution_count": 65,
   "id": "ffb10e9d",
   "metadata": {
    "colab": {
     "base_uri": "https://localhost:8080/",
     "height": 330
    },
    "id": "ffb10e9d",
    "outputId": "418fe50e-bbee-410f-9058-2852b28783d0"
   },
   "outputs": [
    {
     "data": {
      "application/vnd.google.colaboratory.intrinsic+json": {
       "summary": "{\n  \"name\": \"nutrition_col_quantile_summary\",\n  \"rows\": 5,\n  \"fields\": [\n    {\n      \"column\": \"calories\",\n      \"properties\": {\n        \"dtype\": \"number\",\n        \"std\": 0.03464261275473499,\n        \"min\": 4.342026362942857,\n        \"max\": 4.428238537063613,\n        \"num_unique_values\": 5,\n        \"samples\": [\n          4.428238537063613,\n          4.342026362942857,\n          4.418471427562337\n        ],\n        \"semantic_type\": \"\",\n        \"description\": \"\"\n      }\n    },\n    {\n      \"column\": \"total_fat_PDV\",\n      \"properties\": {\n        \"dtype\": \"number\",\n        \"std\": 0.02289033730119195,\n        \"min\": 4.371152387504189,\n        \"max\": 4.427758294934008,\n        \"num_unique_values\": 5,\n        \"samples\": [\n          4.42094588261758,\n          4.371152387504189,\n          4.427758294934008\n        ],\n        \"semantic_type\": \"\",\n        \"description\": \"\"\n      }\n    },\n    {\n      \"column\": \"sugar_PDV\",\n      \"properties\": {\n        \"dtype\": \"number\",\n        \"std\": 0.038755687100315246,\n        \"min\": 4.332979344767164,\n        \"max\": 4.434609683534767,\n        \"num_unique_values\": 5,\n        \"samples\": [\n          4.434609683534767,\n          4.332979344767164,\n          4.403004998863895\n        ],\n        \"semantic_type\": \"\",\n        \"description\": \"\"\n      }\n    },\n    {\n      \"column\": \"sodium_PDV\",\n      \"properties\": {\n        \"dtype\": \"number\",\n        \"std\": 0.020867630971008598,\n        \"min\": 4.373164431548777,\n        \"max\": 4.423843137847985,\n        \"num_unique_values\": 5,\n        \"samples\": [\n          4.408631183296264,\n          4.373164431548777,\n          4.422298040557766\n        ],\n        \"semantic_type\": \"\",\n        \"description\": \"\"\n      }\n    },\n    {\n      \"column\": \"protein_PDV\",\n      \"properties\": {\n        \"dtype\": \"number\",\n        \"std\": 0.02006257090815605,\n        \"min\": 4.372770966843132,\n        \"max\": 4.42267920094007,\n        \"num_unique_values\": 5,\n        \"samples\": [\n          4.4192342372845115,\n          4.372770966843132,\n          4.410517472653603\n        ],\n        \"semantic_type\": \"\",\n        \"description\": \"\"\n      }\n    },\n    {\n      \"column\": \"saturated_fat_PDV\",\n      \"properties\": {\n        \"dtype\": \"number\",\n        \"std\": 0.029819336002696255,\n        \"min\": 4.351968545400291,\n        \"max\": 4.423549864022858,\n        \"num_unique_values\": 5,\n        \"samples\": [\n          4.422079084530801,\n          4.351968545400291,\n          4.423549864022858\n        ],\n        \"semantic_type\": \"\",\n        \"description\": \"\"\n      }\n    },\n    {\n      \"column\": \"carbohydrates_PDV\",\n      \"properties\": {\n        \"dtype\": \"number\",\n        \"std\": 0.04542145294619979,\n        \"min\": 4.3249221837512675,\n        \"max\": 4.439452576623337,\n        \"num_unique_values\": 5,\n        \"samples\": [\n          4.421593669309094,\n          4.3249221837512675,\n          4.417625158961534\n        ],\n        \"semantic_type\": \"\",\n        \"description\": \"\"\n      }\n    },\n    {\n      \"column\": \"total_fat_per_100_cal\",\n      \"properties\": {\n        \"dtype\": \"number\",\n        \"std\": 0.03653733077897325,\n        \"min\": 4.3851300732120135,\n        \"max\": 4.476848060036952,\n        \"num_unique_values\": 5,\n        \"samples\": [\n          4.396544041351828,\n          4.476848060036952,\n          4.415026519070421\n        ],\n        \"semantic_type\": \"\",\n        \"description\": \"\"\n      }\n    },\n    {\n      \"column\": \"sugar_per_100_cal\",\n      \"properties\": {\n        \"dtype\": \"number\",\n        \"std\": 0.012699425660549725,\n        \"min\": 4.392021313950631,\n        \"max\": 4.4276215812892366,\n        \"num_unique_values\": 5,\n        \"samples\": [\n          4.4276215812892366,\n          4.413382768361582,\n          4.410982840192911\n        ],\n        \"semantic_type\": \"\",\n        \"description\": \"\"\n      }\n    },\n    {\n      \"column\": \"sodium_per_100_cal\",\n      \"properties\": {\n        \"dtype\": \"number\",\n        \"std\": 0.014150639220993277,\n        \"min\": 4.38971098688297,\n        \"max\": 4.423545597484277,\n        \"num_unique_values\": 5,\n        \"samples\": [\n          4.398279822573676,\n          4.38971098688297,\n          4.423545597484277\n        ],\n        \"semantic_type\": \"\",\n        \"description\": \"\"\n      }\n    },\n    {\n      \"column\": \"protein_per_100_cal\",\n      \"properties\": {\n        \"dtype\": \"number\",\n        \"std\": 0.006004790702762067,\n        \"min\": 4.402534780528533,\n        \"max\": 4.4167142468733,\n        \"num_unique_values\": 5,\n        \"samples\": [\n          4.413150287926701,\n          4.404997534111458,\n          4.4167142468733\n        ],\n        \"semantic_type\": \"\",\n        \"description\": \"\"\n      }\n    },\n    {\n      \"column\": \"saturated_fat_per_100_cal\",\n      \"properties\": {\n        \"dtype\": \"number\",\n        \"std\": 0.020348338154357798,\n        \"min\": 4.394655333576261,\n        \"max\": 4.446134368388612,\n        \"num_unique_values\": 5,\n        \"samples\": [\n          4.405957253579826,\n          4.446134368388612,\n          4.412177085317922\n        ],\n        \"semantic_type\": \"\",\n        \"description\": \"\"\n      }\n    },\n    {\n      \"column\": \"carbohydrates_per_100_cal\",\n      \"properties\": {\n        \"dtype\": \"number\",\n        \"std\": 0.022336223017633872,\n        \"min\": 4.379253617344023,\n        \"max\": 4.438209733487833,\n        \"num_unique_values\": 5,\n        \"samples\": [\n          4.41984313997274,\n          4.3999107991235045,\n          4.400807645567016\n        ],\n        \"semantic_type\": \"\",\n        \"description\": \"\"\n      }\n    }\n  ]\n}",
       "type": "dataframe",
       "variable_name": "nutrition_col_quantile_summary"
      },
      "text/html": [
       "\n",
       "  <div id=\"df-c4b4bc08-c521-4119-91a0-31f389aef81a\" class=\"colab-df-container\">\n",
       "    <div>\n",
       "<style scoped>\n",
       "    .dataframe tbody tr th:only-of-type {\n",
       "        vertical-align: middle;\n",
       "    }\n",
       "\n",
       "    .dataframe tbody tr th {\n",
       "        vertical-align: top;\n",
       "    }\n",
       "\n",
       "    .dataframe thead th {\n",
       "        text-align: right;\n",
       "    }\n",
       "</style>\n",
       "<table border=\"1\" class=\"dataframe\">\n",
       "  <thead>\n",
       "    <tr style=\"text-align: right;\">\n",
       "      <th></th>\n",
       "      <th>calories</th>\n",
       "      <th>total_fat_PDV</th>\n",
       "      <th>sugar_PDV</th>\n",
       "      <th>sodium_PDV</th>\n",
       "      <th>protein_PDV</th>\n",
       "      <th>saturated_fat_PDV</th>\n",
       "      <th>carbohydrates_PDV</th>\n",
       "      <th>total_fat_per_100_cal</th>\n",
       "      <th>sugar_per_100_cal</th>\n",
       "      <th>sodium_per_100_cal</th>\n",
       "      <th>protein_per_100_cal</th>\n",
       "      <th>saturated_fat_per_100_cal</th>\n",
       "      <th>carbohydrates_per_100_cal</th>\n",
       "    </tr>\n",
       "  </thead>\n",
       "  <tbody>\n",
       "    <tr>\n",
       "      <th>0.00-0.25</th>\n",
       "      <td>4.416167</td>\n",
       "      <td>4.393560</td>\n",
       "      <td>4.416368</td>\n",
       "      <td>4.423843</td>\n",
       "      <td>4.422679</td>\n",
       "      <td>4.396849</td>\n",
       "      <td>4.439453</td>\n",
       "      <td>4.385130</td>\n",
       "      <td>4.412924</td>\n",
       "      <td>4.417770</td>\n",
       "      <td>4.412914</td>\n",
       "      <td>4.394655</td>\n",
       "      <td>4.438210</td>\n",
       "    </tr>\n",
       "    <tr>\n",
       "      <th>0.25-0.50</th>\n",
       "      <td>4.428239</td>\n",
       "      <td>4.420946</td>\n",
       "      <td>4.434610</td>\n",
       "      <td>4.408631</td>\n",
       "      <td>4.419234</td>\n",
       "      <td>4.422079</td>\n",
       "      <td>4.421594</td>\n",
       "      <td>4.396544</td>\n",
       "      <td>4.427622</td>\n",
       "      <td>4.398280</td>\n",
       "      <td>4.413150</td>\n",
       "      <td>4.405957</td>\n",
       "      <td>4.419843</td>\n",
       "    </tr>\n",
       "    <tr>\n",
       "      <th>0.50-0.75</th>\n",
       "      <td>4.418471</td>\n",
       "      <td>4.427758</td>\n",
       "      <td>4.403005</td>\n",
       "      <td>4.422298</td>\n",
       "      <td>4.410517</td>\n",
       "      <td>4.423550</td>\n",
       "      <td>4.417625</td>\n",
       "      <td>4.415027</td>\n",
       "      <td>4.410983</td>\n",
       "      <td>4.423546</td>\n",
       "      <td>4.416714</td>\n",
       "      <td>4.412177</td>\n",
       "      <td>4.400808</td>\n",
       "    </tr>\n",
       "    <tr>\n",
       "      <th>0.75-0.95</th>\n",
       "      <td>4.393681</td>\n",
       "      <td>4.411867</td>\n",
       "      <td>4.406985</td>\n",
       "      <td>4.397199</td>\n",
       "      <td>4.399930</td>\n",
       "      <td>4.414637</td>\n",
       "      <td>4.382006</td>\n",
       "      <td>4.438629</td>\n",
       "      <td>4.392021</td>\n",
       "      <td>4.414099</td>\n",
       "      <td>4.402535</td>\n",
       "      <td>4.429877</td>\n",
       "      <td>4.379254</td>\n",
       "    </tr>\n",
       "    <tr>\n",
       "      <th>0.95 - 1.00</th>\n",
       "      <td>4.342026</td>\n",
       "      <td>4.371152</td>\n",
       "      <td>4.332979</td>\n",
       "      <td>4.373164</td>\n",
       "      <td>4.372771</td>\n",
       "      <td>4.351969</td>\n",
       "      <td>4.324922</td>\n",
       "      <td>4.476848</td>\n",
       "      <td>4.413383</td>\n",
       "      <td>4.389711</td>\n",
       "      <td>4.404998</td>\n",
       "      <td>4.446134</td>\n",
       "      <td>4.399911</td>\n",
       "    </tr>\n",
       "  </tbody>\n",
       "</table>\n",
       "</div>\n",
       "    <div class=\"colab-df-buttons\">\n",
       "\n",
       "  <div class=\"colab-df-container\">\n",
       "    <button class=\"colab-df-convert\" onclick=\"convertToInteractive('df-c4b4bc08-c521-4119-91a0-31f389aef81a')\"\n",
       "            title=\"Convert this dataframe to an interactive table.\"\n",
       "            style=\"display:none;\">\n",
       "\n",
       "  <svg xmlns=\"http://www.w3.org/2000/svg\" height=\"24px\" viewBox=\"0 -960 960 960\">\n",
       "    <path d=\"M120-120v-720h720v720H120Zm60-500h600v-160H180v160Zm220 220h160v-160H400v160Zm0 220h160v-160H400v160ZM180-400h160v-160H180v160Zm440 0h160v-160H620v160ZM180-180h160v-160H180v160Zm440 0h160v-160H620v160Z\"/>\n",
       "  </svg>\n",
       "    </button>\n",
       "\n",
       "  <style>\n",
       "    .colab-df-container {\n",
       "      display:flex;\n",
       "      gap: 12px;\n",
       "    }\n",
       "\n",
       "    .colab-df-convert {\n",
       "      background-color: #E8F0FE;\n",
       "      border: none;\n",
       "      border-radius: 50%;\n",
       "      cursor: pointer;\n",
       "      display: none;\n",
       "      fill: #1967D2;\n",
       "      height: 32px;\n",
       "      padding: 0 0 0 0;\n",
       "      width: 32px;\n",
       "    }\n",
       "\n",
       "    .colab-df-convert:hover {\n",
       "      background-color: #E2EBFA;\n",
       "      box-shadow: 0px 1px 2px rgba(60, 64, 67, 0.3), 0px 1px 3px 1px rgba(60, 64, 67, 0.15);\n",
       "      fill: #174EA6;\n",
       "    }\n",
       "\n",
       "    .colab-df-buttons div {\n",
       "      margin-bottom: 4px;\n",
       "    }\n",
       "\n",
       "    [theme=dark] .colab-df-convert {\n",
       "      background-color: #3B4455;\n",
       "      fill: #D2E3FC;\n",
       "    }\n",
       "\n",
       "    [theme=dark] .colab-df-convert:hover {\n",
       "      background-color: #434B5C;\n",
       "      box-shadow: 0px 1px 3px 1px rgba(0, 0, 0, 0.15);\n",
       "      filter: drop-shadow(0px 1px 2px rgba(0, 0, 0, 0.3));\n",
       "      fill: #FFFFFF;\n",
       "    }\n",
       "  </style>\n",
       "\n",
       "    <script>\n",
       "      const buttonEl =\n",
       "        document.querySelector('#df-c4b4bc08-c521-4119-91a0-31f389aef81a button.colab-df-convert');\n",
       "      buttonEl.style.display =\n",
       "        google.colab.kernel.accessAllowed ? 'block' : 'none';\n",
       "\n",
       "      async function convertToInteractive(key) {\n",
       "        const element = document.querySelector('#df-c4b4bc08-c521-4119-91a0-31f389aef81a');\n",
       "        const dataTable =\n",
       "          await google.colab.kernel.invokeFunction('convertToInteractive',\n",
       "                                                    [key], {});\n",
       "        if (!dataTable) return;\n",
       "\n",
       "        const docLinkHtml = 'Like what you see? Visit the ' +\n",
       "          '<a target=\"_blank\" href=https://colab.research.google.com/notebooks/data_table.ipynb>data table notebook</a>'\n",
       "          + ' to learn more about interactive tables.';\n",
       "        element.innerHTML = '';\n",
       "        dataTable['output_type'] = 'display_data';\n",
       "        await google.colab.output.renderOutput(dataTable, element);\n",
       "        const docLink = document.createElement('div');\n",
       "        docLink.innerHTML = docLinkHtml;\n",
       "        element.appendChild(docLink);\n",
       "      }\n",
       "    </script>\n",
       "  </div>\n",
       "\n",
       "\n",
       "<div id=\"df-f26c6ac2-8d69-41ca-b8a6-7f925ecffd8d\">\n",
       "  <button class=\"colab-df-quickchart\" onclick=\"quickchart('df-f26c6ac2-8d69-41ca-b8a6-7f925ecffd8d')\"\n",
       "            title=\"Suggest charts\"\n",
       "            style=\"display:none;\">\n",
       "\n",
       "<svg xmlns=\"http://www.w3.org/2000/svg\" height=\"24px\"viewBox=\"0 0 24 24\"\n",
       "     width=\"24px\">\n",
       "    <g>\n",
       "        <path d=\"M19 3H5c-1.1 0-2 .9-2 2v14c0 1.1.9 2 2 2h14c1.1 0 2-.9 2-2V5c0-1.1-.9-2-2-2zM9 17H7v-7h2v7zm4 0h-2V7h2v10zm4 0h-2v-4h2v4z\"/>\n",
       "    </g>\n",
       "</svg>\n",
       "  </button>\n",
       "\n",
       "<style>\n",
       "  .colab-df-quickchart {\n",
       "      --bg-color: #E8F0FE;\n",
       "      --fill-color: #1967D2;\n",
       "      --hover-bg-color: #E2EBFA;\n",
       "      --hover-fill-color: #174EA6;\n",
       "      --disabled-fill-color: #AAA;\n",
       "      --disabled-bg-color: #DDD;\n",
       "  }\n",
       "\n",
       "  [theme=dark] .colab-df-quickchart {\n",
       "      --bg-color: #3B4455;\n",
       "      --fill-color: #D2E3FC;\n",
       "      --hover-bg-color: #434B5C;\n",
       "      --hover-fill-color: #FFFFFF;\n",
       "      --disabled-bg-color: #3B4455;\n",
       "      --disabled-fill-color: #666;\n",
       "  }\n",
       "\n",
       "  .colab-df-quickchart {\n",
       "    background-color: var(--bg-color);\n",
       "    border: none;\n",
       "    border-radius: 50%;\n",
       "    cursor: pointer;\n",
       "    display: none;\n",
       "    fill: var(--fill-color);\n",
       "    height: 32px;\n",
       "    padding: 0;\n",
       "    width: 32px;\n",
       "  }\n",
       "\n",
       "  .colab-df-quickchart:hover {\n",
       "    background-color: var(--hover-bg-color);\n",
       "    box-shadow: 0 1px 2px rgba(60, 64, 67, 0.3), 0 1px 3px 1px rgba(60, 64, 67, 0.15);\n",
       "    fill: var(--button-hover-fill-color);\n",
       "  }\n",
       "\n",
       "  .colab-df-quickchart-complete:disabled,\n",
       "  .colab-df-quickchart-complete:disabled:hover {\n",
       "    background-color: var(--disabled-bg-color);\n",
       "    fill: var(--disabled-fill-color);\n",
       "    box-shadow: none;\n",
       "  }\n",
       "\n",
       "  .colab-df-spinner {\n",
       "    border: 2px solid var(--fill-color);\n",
       "    border-color: transparent;\n",
       "    border-bottom-color: var(--fill-color);\n",
       "    animation:\n",
       "      spin 1s steps(1) infinite;\n",
       "  }\n",
       "\n",
       "  @keyframes spin {\n",
       "    0% {\n",
       "      border-color: transparent;\n",
       "      border-bottom-color: var(--fill-color);\n",
       "      border-left-color: var(--fill-color);\n",
       "    }\n",
       "    20% {\n",
       "      border-color: transparent;\n",
       "      border-left-color: var(--fill-color);\n",
       "      border-top-color: var(--fill-color);\n",
       "    }\n",
       "    30% {\n",
       "      border-color: transparent;\n",
       "      border-left-color: var(--fill-color);\n",
       "      border-top-color: var(--fill-color);\n",
       "      border-right-color: var(--fill-color);\n",
       "    }\n",
       "    40% {\n",
       "      border-color: transparent;\n",
       "      border-right-color: var(--fill-color);\n",
       "      border-top-color: var(--fill-color);\n",
       "    }\n",
       "    60% {\n",
       "      border-color: transparent;\n",
       "      border-right-color: var(--fill-color);\n",
       "    }\n",
       "    80% {\n",
       "      border-color: transparent;\n",
       "      border-right-color: var(--fill-color);\n",
       "      border-bottom-color: var(--fill-color);\n",
       "    }\n",
       "    90% {\n",
       "      border-color: transparent;\n",
       "      border-bottom-color: var(--fill-color);\n",
       "    }\n",
       "  }\n",
       "</style>\n",
       "\n",
       "  <script>\n",
       "    async function quickchart(key) {\n",
       "      const quickchartButtonEl =\n",
       "        document.querySelector('#' + key + ' button');\n",
       "      quickchartButtonEl.disabled = true;  // To prevent multiple clicks.\n",
       "      quickchartButtonEl.classList.add('colab-df-spinner');\n",
       "      try {\n",
       "        const charts = await google.colab.kernel.invokeFunction(\n",
       "            'suggestCharts', [key], {});\n",
       "      } catch (error) {\n",
       "        console.error('Error during call to suggestCharts:', error);\n",
       "      }\n",
       "      quickchartButtonEl.classList.remove('colab-df-spinner');\n",
       "      quickchartButtonEl.classList.add('colab-df-quickchart-complete');\n",
       "    }\n",
       "    (() => {\n",
       "      let quickchartButtonEl =\n",
       "        document.querySelector('#df-f26c6ac2-8d69-41ca-b8a6-7f925ecffd8d button');\n",
       "      quickchartButtonEl.style.display =\n",
       "        google.colab.kernel.accessAllowed ? 'block' : 'none';\n",
       "    })();\n",
       "  </script>\n",
       "</div>\n",
       "\n",
       "  <div id=\"id_28c11953-3d5c-4ddb-ae94-46d357427432\">\n",
       "    <style>\n",
       "      .colab-df-generate {\n",
       "        background-color: #E8F0FE;\n",
       "        border: none;\n",
       "        border-radius: 50%;\n",
       "        cursor: pointer;\n",
       "        display: none;\n",
       "        fill: #1967D2;\n",
       "        height: 32px;\n",
       "        padding: 0 0 0 0;\n",
       "        width: 32px;\n",
       "      }\n",
       "\n",
       "      .colab-df-generate:hover {\n",
       "        background-color: #E2EBFA;\n",
       "        box-shadow: 0px 1px 2px rgba(60, 64, 67, 0.3), 0px 1px 3px 1px rgba(60, 64, 67, 0.15);\n",
       "        fill: #174EA6;\n",
       "      }\n",
       "\n",
       "      [theme=dark] .colab-df-generate {\n",
       "        background-color: #3B4455;\n",
       "        fill: #D2E3FC;\n",
       "      }\n",
       "\n",
       "      [theme=dark] .colab-df-generate:hover {\n",
       "        background-color: #434B5C;\n",
       "        box-shadow: 0px 1px 3px 1px rgba(0, 0, 0, 0.15);\n",
       "        filter: drop-shadow(0px 1px 2px rgba(0, 0, 0, 0.3));\n",
       "        fill: #FFFFFF;\n",
       "      }\n",
       "    </style>\n",
       "    <button class=\"colab-df-generate\" onclick=\"generateWithVariable('nutrition_col_quantile_summary')\"\n",
       "            title=\"Generate code using this dataframe.\"\n",
       "            style=\"display:none;\">\n",
       "\n",
       "  <svg xmlns=\"http://www.w3.org/2000/svg\" height=\"24px\"viewBox=\"0 0 24 24\"\n",
       "       width=\"24px\">\n",
       "    <path d=\"M7,19H8.4L18.45,9,17,7.55,7,17.6ZM5,21V16.75L18.45,3.32a2,2,0,0,1,2.83,0l1.4,1.43a1.91,1.91,0,0,1,.58,1.4,1.91,1.91,0,0,1-.58,1.4L9.25,21ZM18.45,9,17,7.55Zm-12,3A5.31,5.31,0,0,0,4.9,8.1,5.31,5.31,0,0,0,1,6.5,5.31,5.31,0,0,0,4.9,4.9,5.31,5.31,0,0,0,6.5,1,5.31,5.31,0,0,0,8.1,4.9,5.31,5.31,0,0,0,12,6.5,5.46,5.46,0,0,0,6.5,12Z\"/>\n",
       "  </svg>\n",
       "    </button>\n",
       "    <script>\n",
       "      (() => {\n",
       "      const buttonEl =\n",
       "        document.querySelector('#id_28c11953-3d5c-4ddb-ae94-46d357427432 button.colab-df-generate');\n",
       "      buttonEl.style.display =\n",
       "        google.colab.kernel.accessAllowed ? 'block' : 'none';\n",
       "\n",
       "      buttonEl.onclick = () => {\n",
       "        google.colab.notebook.generateWithVariable('nutrition_col_quantile_summary');\n",
       "      }\n",
       "      })();\n",
       "    </script>\n",
       "  </div>\n",
       "\n",
       "    </div>\n",
       "  </div>\n"
      ],
      "text/plain": [
       "             calories  total_fat_PDV  sugar_PDV  sodium_PDV  protein_PDV  \\\n",
       "0.00-0.25    4.416167       4.393560   4.416368    4.423843     4.422679   \n",
       "0.25-0.50    4.428239       4.420946   4.434610    4.408631     4.419234   \n",
       "0.50-0.75    4.418471       4.427758   4.403005    4.422298     4.410517   \n",
       "0.75-0.95    4.393681       4.411867   4.406985    4.397199     4.399930   \n",
       "0.95 - 1.00  4.342026       4.371152   4.332979    4.373164     4.372771   \n",
       "\n",
       "             saturated_fat_PDV  carbohydrates_PDV  total_fat_per_100_cal  \\\n",
       "0.00-0.25             4.396849           4.439453               4.385130   \n",
       "0.25-0.50             4.422079           4.421594               4.396544   \n",
       "0.50-0.75             4.423550           4.417625               4.415027   \n",
       "0.75-0.95             4.414637           4.382006               4.438629   \n",
       "0.95 - 1.00           4.351969           4.324922               4.476848   \n",
       "\n",
       "             sugar_per_100_cal  sodium_per_100_cal  protein_per_100_cal  \\\n",
       "0.00-0.25             4.412924            4.417770             4.412914   \n",
       "0.25-0.50             4.427622            4.398280             4.413150   \n",
       "0.50-0.75             4.410983            4.423546             4.416714   \n",
       "0.75-0.95             4.392021            4.414099             4.402535   \n",
       "0.95 - 1.00           4.413383            4.389711             4.404998   \n",
       "\n",
       "             saturated_fat_per_100_cal  carbohydrates_per_100_cal  \n",
       "0.00-0.25                     4.394655                   4.438210  \n",
       "0.25-0.50                     4.405957                   4.419843  \n",
       "0.50-0.75                     4.412177                   4.400808  \n",
       "0.75-0.95                     4.429877                   4.379254  \n",
       "0.95 - 1.00                   4.446134                   4.399911  "
      ]
     },
     "execution_count": 65,
     "metadata": {},
     "output_type": "execute_result"
    }
   ],
   "source": [
    "nutrition_col_quantile_summary"
   ]
  },
  {
   "cell_type": "markdown",
   "id": "7fe1f57d",
   "metadata": {
    "id": "7fe1f57d"
   },
   "source": [
    "## Part 2: User Based Feature Extration & EDA\n",
    "\n",
    "The second approach is project-specific. Focus on creating features that will help the model you are building. In this case, we will want to create features that capture the specifics of a recipe and user preferences. Imagine a hypothetical user who has rated a few dessert recipes highly. This user will likely rate other dessert recipes highly. You need to think of ways to capture both user preferences (this user likes deserts) and recipe details (this recipe is a dessert); they will add a lot of value to your model.  "
   ]
  },
  {
   "cell_type": "markdown",
   "id": "6e71f2dc",
   "metadata": {
    "id": "6e71f2dc"
   },
   "source": [
    "### Initial Setup"
   ]
  },
  {
   "cell_type": "code",
   "execution_count": 68,
   "id": "Abarz8yhDEnc",
   "metadata": {
    "id": "Abarz8yhDEnc"
   },
   "outputs": [],
   "source": [
    "from pyspark.sql.window import Window"
   ]
  },
  {
   "cell_type": "markdown",
   "id": "37b75577",
   "metadata": {
    "id": "37b75577"
   },
   "source": [
    "### Defining Custom Functions"
   ]
  },
  {
   "cell_type": "code",
   "execution_count": 66,
   "id": "fa43255c",
   "metadata": {
    "id": "fa43255c"
   },
   "outputs": [],
   "source": [
    "def add_OHE_columns (df, n_name_list):\n",
    "    \"\"\"\n",
    "    Given a list of tags, creates one hot encoded columns for each tag.\n",
    "\n",
    "    Input\n",
    "    Argument 1: Dataframe in which the function will add the new columns\n",
    "    Argument 2: list of tags\n",
    "\n",
    "    Output\n",
    "    Prints the names of columns that have been added\n",
    "    Returns the modified dataframe\n",
    "    \"\"\"\n",
    "    for name in n_name_list:\n",
    "        df = (df.withColumn(\"has_tag_\"+name, F.when(F.array_contains(df.tags, name), 1).otherwise(0)))\n",
    "        print (\"added column: has_tag_\"+name)\n",
    "\n",
    "    return df"
   ]
  },
  {
   "cell_type": "markdown",
   "id": "c6fe8e96",
   "metadata": {
    "id": "c6fe8e96"
   },
   "source": [
    "## Task 08: Create User-Level features.\n",
    "\n",
    "Each user will have some preference intrinsically captured in their ratings. For instance, let’s say a user tends to highly rate the recipes that take less than 30 minutes to make, and the same user rates the other recipes a bit lower. You need to come up with a way to capture such intrinsic feedback. Several features can be created for the same. Another set of features can be created for the high ratings which refer to only those reviews where the user has given five ratings to a recipe. After you create user-level features, do a thorough data check. You might have introduced null values to the data during your transformations. After these columns are created, you can also do the bucketing exercise on them."
   ]
  },
  {
   "cell_type": "markdown",
   "id": "48ba87c0",
   "metadata": {
    "id": "48ba87c0"
   },
   "source": [
    "### Adding user level average features"
   ]
  },
  {
   "cell_type": "code",
   "execution_count": 69,
   "id": "d20058ad",
   "metadata": {
    "id": "d20058ad"
   },
   "outputs": [],
   "source": [
    "partition = Window.partitionBy(\"user_id\")\n",
    "\n",
    "interaction_level_df = (interaction_level_df\n",
    "                        .withColumn(\"user_avg_rating\",\n",
    "                                    F.avg(F.col(\"rating\")).over(partition))\n",
    "                        .withColumn(\"user_n_ratings\",\n",
    "                                    F.count(F.col(\"rating\")).over(partition))\n",
    "                        .withColumn(\"user_avg_years_betwn_review_and_submission\",\n",
    "                                    F.avg(F.col(\"years_since_submission_on_review_date\")).over(partition))\n",
    "                        .withColumn(\"user_avg_prep_time_recipes_reviewed\",\n",
    "                                    F.avg(F.col(\"minutes\")).over(partition))\n",
    "                        .withColumn(\"user_avg_n_steps_recipes_reviewed\",\n",
    "                                    F.avg(F.col(\"n_steps\")).over(partition))\n",
    "                        .withColumn(\"user_avg_n_ingredients_recipes_reviewed\",\n",
    "                                    F.avg(F.col(\"n_ingredients\")).over(partition)))"
   ]
  },
  {
   "cell_type": "code",
   "execution_count": 70,
   "id": "73947a8d",
   "metadata": {
    "id": "73947a8d"
   },
   "outputs": [],
   "source": [
    "nutrition_cols = ['calories',\n",
    "                  'total_fat_per_100_cal',\n",
    "                  'sugar_per_100_cal',\n",
    "                  'sodium_per_100_cal',\n",
    "                  'protein_per_100_cal',\n",
    "                  'saturated_fat_per_100_cal',\n",
    "                  'carbohydrates_per_100_cal']\n",
    "\n",
    "for nutri_col in nutrition_cols:\n",
    "    interaction_level_df = (interaction_level_df\n",
    "                            .withColumn(\"user_avg_{}_recipes_reviewed\".format(nutri_col),\n",
    "                                        F.avg(F.col(nutri_col)).over(partition)))"
   ]
  },
  {
   "cell_type": "code",
   "execution_count": 71,
   "id": "1a9d09be",
   "metadata": {
    "id": "1a9d09be"
   },
   "outputs": [],
   "source": [
    "# Code check cell\n",
    "# Do not edit cells with assert commands\n",
    "# If an error is shown after running this cell, please recheck your code.\n",
    "\n",
    "assert(round(interaction_level_df.filter('user_id == 601529').select('user_avg_rating').first()[0], 2) == 4.22)\n",
    "assert(interaction_level_df.filter('user_id == 601529').select('user_n_ratings').first()[0] == 27)\n",
    "assert(round(interaction_level_df.filter('user_id == 601529').select('user_avg_years_betwn_review_and_submission').first()[0], 2) == 3.51)\n",
    "assert(interaction_level_df.filter('user_id == 233044').select('user_avg_prep_time_recipes_reviewed').first()[0] == 50.3)\n",
    "assert(interaction_level_df.filter('user_id == 233044').select('user_avg_n_steps_recipes_reviewed').first()[0] == 8.8)\n",
    "assert(interaction_level_df.filter('user_id == 233044').select('user_avg_n_ingredients_recipes_reviewed').first()[0] == 8.2)\n",
    "assert(round(interaction_level_df.filter('user_id == 233044').select('user_avg_total_fat_per_100_cal_recipes_reviewed').first()[0]) == 6)"
   ]
  },
  {
   "cell_type": "markdown",
   "id": "7513b134",
   "metadata": {
    "id": "7513b134"
   },
   "source": [
    "### Adding More Features:\n",
    "\n",
    "high_ratings = 5 rating\n",
    "\n",
    "- `user_avg_years_betwn_review_and_submission_high_ratings`\n",
    "- `user_avg_prep_time_recipes_reviewed_high_ratings`\n",
    "- `user_avg_n_steps_recipes_reviewed_high_ratings`\n",
    "- `user_avg_n_ingredients_recipes_reviewed_high_ratings`"
   ]
  },
  {
   "cell_type": "code",
   "execution_count": 72,
   "id": "925c722f",
   "metadata": {
    "id": "925c722f"
   },
   "outputs": [],
   "source": [
    "interaction_level_df = (interaction_level_df\n",
    "                        .withColumn(\"ind_5_rating\",\n",
    "                                    F.when(interaction_level_df[\"rating\"] != 5, None)\n",
    "                                     .otherwise(1))\n",
    "                        .withColumn(\"years_since_submission_on_review_date_5_ratings\",\n",
    "                                    F.when(interaction_level_df[\"rating\"] != 5, None)\n",
    "                                     .otherwise(F.col(\"years_since_submission_on_review_date\")))\n",
    "                        .withColumn(\"minutes_5_ratings\",\n",
    "                                    F.when(interaction_level_df[\"rating\"] != 5, None)\n",
    "                                     .otherwise(F.col(\"minutes\")))\n",
    "                        .withColumn(\"n_steps_5_ratings\",\n",
    "                                    F.when(interaction_level_df[\"rating\"] != 5, None)\n",
    "                                     .otherwise(F.col(\"n_steps\")))\n",
    "                        .withColumn(\"n_ingredients_5_ratings\",\n",
    "                                    F.when(interaction_level_df[\"rating\"] != 5, None)\n",
    "                                     .otherwise(F.col(\"n_ingredients\"))))"
   ]
  },
  {
   "cell_type": "code",
   "execution_count": 73,
   "id": "6cdd5e31",
   "metadata": {
    "id": "6cdd5e31"
   },
   "outputs": [],
   "source": [
    "partition = Window.partitionBy(\"user_id\")\n",
    "\n",
    "interaction_level_df = (interaction_level_df\n",
    "                        .withColumn(\"user_n_5_ratings\",\n",
    "                                    F.sum(F.col(\"ind_5_rating\")).over(partition))\n",
    "                        .withColumn(\"user_avg_years_betwn_review_and_submission_5_ratings\",\n",
    "                                    F.avg(F.col(\"years_since_submission_on_review_date_5_ratings\")).over(partition))\n",
    "                        .withColumn(\"user_avg_prep_time_recipes_reviewed_5_ratings\",\n",
    "                                    F.avg(F.col(\"minutes_5_ratings\")).over(partition))\n",
    "                        .withColumn(\"user_avg_n_steps_recipes_reviewed_5_ratings\",\n",
    "                                    F.avg(F.col(\"n_steps_5_ratings\")).over(partition))\n",
    "                        .withColumn(\"user_avg_n_ingredients_recipes_reviewed_5_ratings\",\n",
    "                                    F.avg(F.col(\"n_ingredients_5_ratings\")).over(partition)))"
   ]
  },
  {
   "cell_type": "code",
   "execution_count": 74,
   "id": "f05a7e60",
   "metadata": {
    "id": "f05a7e60"
   },
   "outputs": [],
   "source": [
    "for nutri_col in nutrition_cols:\n",
    "    interaction_level_df = (interaction_level_df\n",
    "                            .withColumn(\"{}_5_ratings\".format(nutri_col),\n",
    "                                        F.when(interaction_level_df[\"rating\"] != 5, None)\n",
    "                                         .otherwise(F.col(nutri_col))))\n",
    "    interaction_level_df = (interaction_level_df\n",
    "                            .withColumn(\"user_avg_{}_recipes_reviewed_5_ratings\".format(nutri_col),\n",
    "                                        F.avg(F.col(\"{}_5_ratings\".format(nutri_col))).over(partition)))"
   ]
  },
  {
   "cell_type": "code",
   "execution_count": 75,
   "id": "9c85a6f2",
   "metadata": {
    "id": "9c85a6f2"
   },
   "outputs": [],
   "source": [
    "# Check - All rows with ratings should have non-null values in corresponding user_avg_5_ratings columns\n",
    "\n",
    "assert(interaction_level_df\n",
    "       .filter(\"rating == 5\")\n",
    "       .filter(interaction_level_df.user_n_5_ratings.isNull() |\n",
    "               interaction_level_df.user_avg_years_betwn_review_and_submission_5_ratings.isNull() |\n",
    "               interaction_level_df.user_avg_prep_time_recipes_reviewed_5_ratings.isNull() |\n",
    "               interaction_level_df.user_avg_n_steps_recipes_reviewed_5_ratings.isNull() |\n",
    "               interaction_level_df.user_avg_n_ingredients_recipes_reviewed_5_ratings.isNull())\n",
    "       .count() == 0)"
   ]
  },
  {
   "cell_type": "code",
   "execution_count": 76,
   "id": "e4dbeeee",
   "metadata": {
    "id": "e4dbeeee"
   },
   "outputs": [],
   "source": [
    "# Check values for a given user id\n",
    "\n",
    "assert(interaction_level_df.filter('user_id == 233044').select('user_n_5_ratings').first()[0] == 7)\n",
    "assert(round(interaction_level_df.filter('user_id == 233044').select('user_avg_years_betwn_review_and_submission_5_ratings').first()[0], 2) == 2.24)\n",
    "assert(round(interaction_level_df.filter('user_id == 233044').select('user_avg_prep_time_recipes_reviewed_5_ratings').first()[0]) == 46)\n",
    "assert(round(interaction_level_df.filter('user_id == 233044').select('user_avg_n_steps_recipes_reviewed_5_ratings').first()[0], 2) == 7.29)\n",
    "assert(round(interaction_level_df.filter('user_id == 233044').select('user_avg_n_ingredients_recipes_reviewed_5_ratings').first()[0], 2) == 6.86)"
   ]
  },
  {
   "cell_type": "code",
   "execution_count": 77,
   "id": "68ac4e4d",
   "metadata": {
    "colab": {
     "base_uri": "https://localhost:8080/"
    },
    "id": "68ac4e4d",
    "outputId": "aa0f4d18-9b3d-455b-c2b3-9ea5f287105b"
   },
   "outputs": [
    {
     "name": "stdout",
     "output_type": "stream",
     "text": [
      "root\n",
      " |-- user_id: integer (nullable = true)\n",
      " |-- recipe_id: integer (nullable = true)\n",
      " |-- rating: integer (nullable = true)\n",
      " |-- review: string (nullable = true)\n",
      " |-- review_date: date (nullable = true)\n",
      " |-- name: string (nullable = true)\n",
      " |-- id: integer (nullable = true)\n",
      " |-- minutes: integer (nullable = true)\n",
      " |-- contributor_id: integer (nullable = true)\n",
      " |-- submitted: date (nullable = true)\n",
      " |-- tags: array (nullable = true)\n",
      " |    |-- element: string (containsNull = true)\n",
      " |-- nutrition: string (nullable = true)\n",
      " |-- n_steps: integer (nullable = true)\n",
      " |-- steps: string (nullable = true)\n",
      " |-- description: string (nullable = true)\n",
      " |-- ingredients: string (nullable = true)\n",
      " |-- n_ingredients: integer (nullable = true)\n",
      " |-- calories: float (nullable = true)\n",
      " |-- total_fat_PDV: float (nullable = true)\n",
      " |-- sugar_PDV: float (nullable = true)\n",
      " |-- sodium_PDV: float (nullable = true)\n",
      " |-- protein_PDV: float (nullable = true)\n",
      " |-- saturated_fat_PDV: float (nullable = true)\n",
      " |-- carbohydrates_PDV: float (nullable = true)\n",
      " |-- total_fat_per_100_cal: double (nullable = false)\n",
      " |-- sugar_per_100_cal: double (nullable = false)\n",
      " |-- sodium_per_100_cal: double (nullable = false)\n",
      " |-- protein_per_100_cal: double (nullable = false)\n",
      " |-- saturated_fat_per_100_cal: double (nullable = false)\n",
      " |-- carbohydrates_per_100_cal: double (nullable = false)\n",
      " |-- days_since_submission_on_review_date: integer (nullable = true)\n",
      " |-- months_since_submission_on_review_date: double (nullable = true)\n",
      " |-- years_since_submission_on_review_date: double (nullable = true)\n",
      " |-- years_since_submission_on_review_date_bucket: double (nullable = true)\n",
      " |-- prep_time_bucket: double (nullable = true)\n",
      " |-- n_steps_bucket: double (nullable = true)\n",
      " |-- n_ingredients_bucket: double (nullable = true)\n",
      " |-- calories_bucket: double (nullable = true)\n",
      " |-- total_fat_PDV_bucket: double (nullable = true)\n",
      " |-- sugar_PDV_bucket: double (nullable = true)\n",
      " |-- sodium_PDV_bucket: double (nullable = true)\n",
      " |-- protein_PDV_bucket: double (nullable = true)\n",
      " |-- saturated_fat_PDV_bucket: double (nullable = true)\n",
      " |-- carbohydrates_PDV_bucket: double (nullable = true)\n",
      " |-- total_fat_per_100_cal_bucket: double (nullable = false)\n",
      " |-- sugar_per_100_cal_bucket: double (nullable = false)\n",
      " |-- sodium_per_100_cal_bucket: double (nullable = false)\n",
      " |-- protein_per_100_cal_bucket: double (nullable = false)\n",
      " |-- saturated_fat_per_100_cal_bucket: double (nullable = false)\n",
      " |-- carbohydrates_per_100_cal_bucket: double (nullable = false)\n",
      " |-- user_avg_rating: double (nullable = true)\n",
      " |-- user_n_ratings: long (nullable = false)\n",
      " |-- user_avg_years_betwn_review_and_submission: double (nullable = true)\n",
      " |-- user_avg_prep_time_recipes_reviewed: double (nullable = true)\n",
      " |-- user_avg_n_steps_recipes_reviewed: double (nullable = true)\n",
      " |-- user_avg_n_ingredients_recipes_reviewed: double (nullable = true)\n",
      " |-- user_avg_calories_recipes_reviewed: double (nullable = true)\n",
      " |-- user_avg_total_fat_per_100_cal_recipes_reviewed: double (nullable = true)\n",
      " |-- user_avg_sugar_per_100_cal_recipes_reviewed: double (nullable = true)\n",
      " |-- user_avg_sodium_per_100_cal_recipes_reviewed: double (nullable = true)\n",
      " |-- user_avg_protein_per_100_cal_recipes_reviewed: double (nullable = true)\n",
      " |-- user_avg_saturated_fat_per_100_cal_recipes_reviewed: double (nullable = true)\n",
      " |-- user_avg_carbohydrates_per_100_cal_recipes_reviewed: double (nullable = true)\n",
      " |-- ind_5_rating: integer (nullable = true)\n",
      " |-- years_since_submission_on_review_date_5_ratings: double (nullable = true)\n",
      " |-- minutes_5_ratings: integer (nullable = true)\n",
      " |-- n_steps_5_ratings: integer (nullable = true)\n",
      " |-- n_ingredients_5_ratings: integer (nullable = true)\n",
      " |-- user_n_5_ratings: long (nullable = true)\n",
      " |-- user_avg_years_betwn_review_and_submission_5_ratings: double (nullable = true)\n",
      " |-- user_avg_prep_time_recipes_reviewed_5_ratings: double (nullable = true)\n",
      " |-- user_avg_n_steps_recipes_reviewed_5_ratings: double (nullable = true)\n",
      " |-- user_avg_n_ingredients_recipes_reviewed_5_ratings: double (nullable = true)\n",
      " |-- calories_5_ratings: float (nullable = true)\n",
      " |-- user_avg_calories_recipes_reviewed_5_ratings: double (nullable = true)\n",
      " |-- total_fat_per_100_cal_5_ratings: double (nullable = true)\n",
      " |-- user_avg_total_fat_per_100_cal_recipes_reviewed_5_ratings: double (nullable = true)\n",
      " |-- sugar_per_100_cal_5_ratings: double (nullable = true)\n",
      " |-- user_avg_sugar_per_100_cal_recipes_reviewed_5_ratings: double (nullable = true)\n",
      " |-- sodium_per_100_cal_5_ratings: double (nullable = true)\n",
      " |-- user_avg_sodium_per_100_cal_recipes_reviewed_5_ratings: double (nullable = true)\n",
      " |-- protein_per_100_cal_5_ratings: double (nullable = true)\n",
      " |-- user_avg_protein_per_100_cal_recipes_reviewed_5_ratings: double (nullable = true)\n",
      " |-- saturated_fat_per_100_cal_5_ratings: double (nullable = true)\n",
      " |-- user_avg_saturated_fat_per_100_cal_recipes_reviewed_5_ratings: double (nullable = true)\n",
      " |-- carbohydrates_per_100_cal_5_ratings: double (nullable = true)\n",
      " |-- user_avg_carbohydrates_per_100_cal_recipes_reviewed_5_ratings: double (nullable = true)\n",
      "\n"
     ]
    }
   ],
   "source": [
    "interaction_level_df.printSchema()"
   ]
  },
  {
   "cell_type": "markdown",
   "id": "d947f240",
   "metadata": {
    "id": "d947f240"
   },
   "source": [
    "## Task 09: Create Tag-Level Features and Perform EDA\n",
    "\n",
    "Extract tags-level features. If you extract and list unique tags and explore all the available tags, you will realize that tags hold a lot of information about the recipe. For example, the healthy tag signifies that the person who uploaded the recipe considers it healthy. If a user specifically looks for the healthy tag, you would want to recommend more healthy recipes to them.\n"
   ]
  },
  {
   "cell_type": "code",
   "execution_count": 78,
   "id": "0e0a288e",
   "metadata": {
    "id": "0e0a288e"
   },
   "outputs": [],
   "source": [
    "interaction_tag_level_df = interaction_level_df.withColumn('individual_tag',F.explode('tags'))"
   ]
  },
  {
   "cell_type": "code",
   "execution_count": 79,
   "id": "27dc6f56",
   "metadata": {
    "id": "27dc6f56"
   },
   "outputs": [],
   "source": [
    "tags_ratings_summary = (interaction_tag_level_df\n",
    "                        .groupBy('individual_tag').agg(F.avg('rating').alias('avg_user_rating'),\n",
    "#                                                      F.max('rating').alias('max_user_rating'),\n",
    "#                                                      F.min('rating').alias('min_user_rating'),\n",
    "                                                       F.count('rating').alias('n_user_ratings'),\n",
    "                                                       F.countDistinct('id').alias('n_recipes')))"
   ]
  },
  {
   "cell_type": "code",
   "execution_count": 80,
   "id": "40aa56a2",
   "metadata": {
    "id": "40aa56a2"
   },
   "outputs": [],
   "source": [
    "interactions, recipes  =  interaction_level_df.count(), interaction_level_df.agg(F.countDistinct('id')).first()[0]\n",
    "\n",
    "tags_ratings_summary = (tags_ratings_summary.withColumn(\"in_percent_recipies\", F.col (\"n_recipes\")/F.lit(recipes))\n",
    "                                            .withColumn(\"in_percent_interactions\", F.col (\"n_user_ratings\")/F.lit(interactions)))"
   ]
  },
  {
   "cell_type": "markdown",
   "id": "3b73f1b2",
   "metadata": {
    "id": "3b73f1b2"
   },
   "source": [
    "### 1. Top ```n``` most rated tags"
   ]
  },
  {
   "cell_type": "code",
   "execution_count": 81,
   "id": "c647d9dd",
   "metadata": {
    "colab": {
     "base_uri": "https://localhost:8080/"
    },
    "id": "c647d9dd",
    "outputId": "613eae86-5e5b-4678-faed-2b808c9f0301"
   },
   "outputs": [
    {
     "name": "stdout",
     "output_type": "stream",
     "text": [
      "+------------------+------------------+--------------+---------+-------------------+-----------------------+\n",
      "|    individual_tag|   avg_user_rating|n_user_ratings|n_recipes|in_percent_recipies|in_percent_interactions|\n",
      "+------------------+------------------+--------------+---------+-------------------+-----------------------+\n",
      "|       preparation|4.4119124813277715|       1123326|   229318| 0.9952779007491125|     0.9970859455232471|\n",
      "|      time-to-make| 4.414416558383976|       1105132|   224098| 0.9726222407402585|       0.98093659823417|\n",
      "|            course| 4.412402044928726|       1071920|   217130| 0.9423799727437654|     0.9514569828574067|\n",
      "|           dietary| 4.412032038984685|        901277|   163918| 0.7114311259255401|     0.7999909462821618|\n",
      "|   main-ingredient| 4.424040070642098|        864074|   169549| 0.7358705936477349|     0.7669688418963456|\n",
      "|              easy|4.4183637556952755|        630786|   125789| 0.5459449840715953|     0.5598978882646952|\n",
      "|          occasion|4.4144829634028655|        619666|   113433| 0.4923179083878024|     0.5500275605822428|\n",
      "|         equipment| 4.415547752950291|        496985|    69892| 0.3033427948924941|     0.4411335254733452|\n",
      "|           cuisine| 4.416942151349161|        478853|    90639|0.39338819301580685|    0.42503921058681404|\n",
      "|  low-in-something| 4.414730950603082|        445959|    85258|0.37003376648177566|    0.39584185817794815|\n",
      "|         main-dish| 4.395996656937766|        384079|    71531|  0.310456324922094|    0.34091596995940915|\n",
      "|60-minutes-or-less| 4.405568569863525|        343212|    69929|0.30350338098834234|    0.30464162810700074|\n",
      "|number-of-servings| 4.407139294746751|        338857|    58410| 0.2535090232025208|     0.3007760456378389|\n",
      "|              meat| 4.408259712746521|        319091|    55769| 0.2420466480907615|    0.28323136065840054|\n",
      "|        taste-mood| 4.412428615527087|        310992|    52060| 0.2259489770231678|    0.27604253117097416|\n",
      "|    north-american| 4.413212293557913|        283433|    48182|0.20911781811237554|    0.25158062823925603|\n",
      "|30-minutes-or-less|4.4268528818028265|        267003|    55059|0.23896513111637718|    0.23699704156455345|\n",
      "|        vegetables| 4.454577657305231|        259718|    53562|0.23246790448165414|    0.23053073426539286|\n",
      "|              oven| 4.417805174050443|        249669|    30777| 0.1335772505924325|    0.22161104695595366|\n",
      "|   4-hours-or-less| 4.383299863701983|        247986|    49450|0.21462114701874083|    0.22011718351264725|\n",
      "+------------------+------------------+--------------+---------+-------------------+-----------------------+\n",
      "only showing top 20 rows\n",
      "\n"
     ]
    }
   ],
   "source": [
    "tags_ratings_summary.sort(F.col(\"n_user_ratings\").desc()).show(20)"
   ]
  },
  {
   "cell_type": "markdown",
   "id": "44d3b60e",
   "metadata": {
    "id": "44d3b60e"
   },
   "source": [
    "Drop tags present in majority of recipes."
   ]
  },
  {
   "cell_type": "code",
   "execution_count": 82,
   "id": "50574f55",
   "metadata": {
    "id": "50574f55"
   },
   "outputs": [],
   "source": [
    "tags_ratings_summary = tags_ratings_summary.filter(tags_ratings_summary.in_percent_interactions < 0.75)"
   ]
  },
  {
   "cell_type": "code",
   "execution_count": 83,
   "id": "4c44cfd1",
   "metadata": {
    "id": "4c44cfd1"
   },
   "outputs": [],
   "source": [
    "top_most_frequent_tags = tags_ratings_summary.sort(F.col(\"n_user_ratings\").desc())"
   ]
  },
  {
   "cell_type": "code",
   "execution_count": 84,
   "id": "e2f8c6c7",
   "metadata": {
    "colab": {
     "base_uri": "https://localhost:8080/"
    },
    "id": "e2f8c6c7",
    "outputId": "77a8c9ce-d0d3-46cd-cce7-6e186791db3a"
   },
   "outputs": [
    {
     "data": {
      "text/plain": [
       "{0.0: 8.876193959039915e-07,\n",
       " 0.01: 8.876193959039915e-07,\n",
       " 0.25: 0.00035948585534111656,\n",
       " 0.5: 0.0034235480100016954,\n",
       " 0.75: 0.018886765506045133,\n",
       " 0.8: 0.02746826982564492,\n",
       " 0.85: 0.04430729738533955,\n",
       " 0.9: 0.08068815356525645,\n",
       " 0.95: 0.16414301678754564,\n",
       " 0.99: 0.34091596995940915,\n",
       " 1.0: 0.5598978882646952}"
      ]
     },
     "execution_count": 84,
     "metadata": {},
     "output_type": "execute_result"
    }
   ],
   "source": [
    "get_quantiles(df = top_most_frequent_tags ,\n",
    "              col_name = 'in_percent_interactions',\n",
    "              quantiles_list = [0.01,0.25,0.5, 0.75,0.8,0.85,0.9,0.95, 0.99])"
   ]
  },
  {
   "cell_type": "code",
   "execution_count": 85,
   "id": "edd4ac20",
   "metadata": {
    "colab": {
     "base_uri": "https://localhost:8080/"
    },
    "id": "edd4ac20",
    "outputId": "1f8aa5cf-c9af-4130-b9ac-7ee21b6db9fd"
   },
   "outputs": [
    {
     "data": {
      "text/plain": [
       "29"
      ]
     },
     "execution_count": 85,
     "metadata": {},
     "output_type": "execute_result"
    }
   ],
   "source": [
    "# keep tags appearing in the top 5 percentile\n",
    "top_most_frequent_tags = top_most_frequent_tags.filter(\"in_percent_interactions > 0.16\")\n",
    "\n",
    "top_most_frequent_tags.count()"
   ]
  },
  {
   "cell_type": "code",
   "execution_count": 86,
   "id": "8ef3df9a",
   "metadata": {
    "id": "8ef3df9a"
   },
   "outputs": [],
   "source": [
    "top_frequent_tags_list = [data[0] for data in top_most_frequent_tags.select('individual_tag').collect()]"
   ]
  },
  {
   "cell_type": "code",
   "execution_count": 87,
   "id": "891c7627",
   "metadata": {
    "colab": {
     "base_uri": "https://localhost:8080/"
    },
    "id": "891c7627",
    "outputId": "0f1353e7-fe92-449e-d7c1-fe7db468c347"
   },
   "outputs": [
    {
     "name": "stdout",
     "output_type": "stream",
     "text": [
      "added column: has_tag_easy\n",
      "added column: has_tag_occasion\n",
      "added column: has_tag_equipment\n",
      "added column: has_tag_cuisine\n",
      "added column: has_tag_low-in-something\n",
      "added column: has_tag_main-dish\n",
      "added column: has_tag_60-minutes-or-less\n",
      "added column: has_tag_number-of-servings\n",
      "added column: has_tag_meat\n",
      "added column: has_tag_taste-mood\n",
      "added column: has_tag_north-american\n",
      "added column: has_tag_30-minutes-or-less\n",
      "added column: has_tag_vegetables\n",
      "added column: has_tag_oven\n",
      "added column: has_tag_4-hours-or-less\n",
      "added column: has_tag_low-carb\n",
      "added column: has_tag_holiday-event\n",
      "added column: has_tag_desserts\n",
      "added column: has_tag_healthy\n",
      "added column: has_tag_dinner-party\n",
      "added column: has_tag_15-minutes-or-less\n",
      "added column: has_tag_low-sodium\n",
      "added column: has_tag_american\n",
      "added column: has_tag_beginner-cook\n",
      "added column: has_tag_low-cholesterol\n",
      "added column: has_tag_low-calorie\n",
      "added column: has_tag_inexpensive\n",
      "added column: has_tag_comfort-food\n",
      "added column: has_tag_kid-friendly\n"
     ]
    }
   ],
   "source": [
    "interaction_level_df = add_OHE_columns (interaction_level_df, top_frequent_tags_list)"
   ]
  },
  {
   "cell_type": "markdown",
   "id": "33744553",
   "metadata": {
    "id": "33744553"
   },
   "source": [
    "### 2.  Bottom ```n``` least rated tags"
   ]
  },
  {
   "cell_type": "code",
   "execution_count": 88,
   "id": "61f70677",
   "metadata": {
    "colab": {
     "base_uri": "https://localhost:8080/"
    },
    "id": "61f70677",
    "outputId": "af0f10cc-75cf-4899-d5f1-3519ec6d2685"
   },
   "outputs": [
    {
     "name": "stdout",
     "output_type": "stream",
     "text": [
      "+--------------------+---------------+--------------+---------+--------------------+-----------------------+\n",
      "|      individual_tag|avg_user_rating|n_user_ratings|n_recipes| in_percent_recipies|in_percent_interactions|\n",
      "+--------------------+---------------+--------------+---------+--------------------+-----------------------+\n",
      "|        snacks-sweet|            4.0|             1|        1|4.340164752654011E-6|   8.876193959039915E-7|\n",
      "|lamb-sheep-main-dish|            0.0|             1|        1|4.340164752654011E-6|   8.876193959039915E-7|\n",
      "|     cranberry-sauce|            5.0|             1|        1|4.340164752654011E-6|   8.876193959039915E-7|\n",
      "|roast-beef-main-dish|            5.0|             1|        1|4.340164752654011E-6|   8.876193959039915E-7|\n",
      "|             cabbage|            5.0|             1|        1|4.340164752654011E-6|   8.876193959039915E-7|\n",
      "+--------------------+---------------+--------------+---------+--------------------+-----------------------+\n",
      "only showing top 5 rows\n",
      "\n"
     ]
    }
   ],
   "source": [
    "tags_ratings_summary.sort(F.col(\"n_user_ratings\").asc()).show(5)"
   ]
  },
  {
   "cell_type": "markdown",
   "id": "28edd839",
   "metadata": {
    "id": "28edd839"
   },
   "source": [
    "The above tags are present in 1 recipe in over two hundred thousand. The features we create based on these tags will not teach the model new information. If these tags were one hot encoded, the entire column would be filled with zeros, and only a few rows will have 1s. One hot encoding of these tags is not a good idea. If you come up with an encoding that captures the rarity of these tags, only then can you add these tags to the analysis."
   ]
  },
  {
   "cell_type": "markdown",
   "id": "b3bacac2",
   "metadata": {
    "id": "b3bacac2"
   },
   "source": [
    "### 3. Top ```n``` rated tags"
   ]
  },
  {
   "cell_type": "code",
   "execution_count": 89,
   "id": "a96c2d31",
   "metadata": {
    "colab": {
     "base_uri": "https://localhost:8080/"
    },
    "id": "a96c2d31",
    "outputId": "e09ed1da-8ef6-46a3-d07b-a3865a85f178"
   },
   "outputs": [
    {
     "name": "stdout",
     "output_type": "stream",
     "text": [
      "+--------------------+---------------+--------------+---------+--------------------+-----------------------+\n",
      "|      individual_tag|avg_user_rating|n_user_ratings|n_recipes| in_percent_recipies|in_percent_interactions|\n",
      "+--------------------+---------------+--------------+---------+--------------------+-----------------------+\n",
      "|irish-st-patricks...|            5.0|             1|        1|4.340164752654011E-6|   8.876193959039915E-7|\n",
      "|Throw the ultimat...|            5.0|             1|        1|4.340164752654011E-6|   8.876193959039915E-7|\n",
      "|  breakfast-potatoes|            5.0|             1|        1|4.340164752654011E-6|   8.876193959039915E-7|\n",
      "|     cranberry-sauce|            5.0|             1|        1|4.340164752654011E-6|   8.876193959039915E-7|\n",
      "|           pork-loin|            5.0|             1|        1|4.340164752654011E-6|   8.876193959039915E-7|\n",
      "+--------------------+---------------+--------------+---------+--------------------+-----------------------+\n",
      "only showing top 5 rows\n",
      "\n"
     ]
    }
   ],
   "source": [
    "tags_ratings_summary.sort(F.col(\"avg_user_rating\").desc()).show(5)"
   ]
  },
  {
   "cell_type": "markdown",
   "id": "1ba743fa",
   "metadata": {
    "id": "1ba743fa"
   },
   "source": [
    "Top rated tags have low number of ratings."
   ]
  },
  {
   "cell_type": "code",
   "execution_count": 90,
   "id": "4303ed84",
   "metadata": {
    "colab": {
     "base_uri": "https://localhost:8080/"
    },
    "id": "4303ed84",
    "outputId": "e86948b0-1ea6-4972-9f8e-6f862013a8b6"
   },
   "outputs": [
    {
     "data": {
      "text/plain": [
       "{0.0: 1,\n",
       " 0.01: 1.0,\n",
       " 0.05: 1.0,\n",
       " 0.1: 12.0,\n",
       " 0.15: 99.0,\n",
       " 0.2: 187.0,\n",
       " 0.25: 405.0,\n",
       " 0.5: 3857.0,\n",
       " 0.75: 21278.0,\n",
       " 0.99: 384079.0,\n",
       " 1.0: 630786}"
      ]
     },
     "execution_count": 90,
     "metadata": {},
     "output_type": "execute_result"
    }
   ],
   "source": [
    "get_quantiles (tags_ratings_summary, \"n_user_ratings\", quantiles_list = [0.01, 0.05, 0.1, 0.15, 0.2, 0.25, 0.5, 0.75, 0.99])"
   ]
  },
  {
   "cell_type": "code",
   "execution_count": 91,
   "id": "ae6523ce",
   "metadata": {
    "id": "ae6523ce"
   },
   "outputs": [],
   "source": [
    "tags_ratings_summary = tags_ratings_summary.filter(tags_ratings_summary.n_user_ratings > 100)"
   ]
  },
  {
   "cell_type": "code",
   "execution_count": 92,
   "id": "7ed0eb7c",
   "metadata": {
    "id": "7ed0eb7c"
   },
   "outputs": [],
   "source": [
    "top_rated_tags_df = tags_ratings_summary.sort(F.col(\"avg_user_rating\").desc())"
   ]
  },
  {
   "cell_type": "code",
   "execution_count": 93,
   "id": "efbdd661",
   "metadata": {
    "colab": {
     "base_uri": "https://localhost:8080/"
    },
    "id": "efbdd661",
    "outputId": "91ce36f5-26d1-4a20-84d6-d75ba818b049"
   },
   "outputs": [
    {
     "data": {
      "text/plain": [
       "{0.0: 3.6742424242424243,\n",
       " 0.01: 3.962536023054755,\n",
       " 0.25: 4.344224006718102,\n",
       " 0.5: 4.403587357364895,\n",
       " 0.75: 4.451890903550206,\n",
       " 0.8: 4.461777662606893,\n",
       " 0.85: 4.48284199758207,\n",
       " 0.9: 4.503597122302159,\n",
       " 0.95: 4.536699941280094,\n",
       " 0.99: 4.609756097560975,\n",
       " 1.0: 4.822727272727272}"
      ]
     },
     "execution_count": 93,
     "metadata": {},
     "output_type": "execute_result"
    }
   ],
   "source": [
    "get_quantiles(df = top_rated_tags_df ,\n",
    "              col_name = 'avg_user_rating',\n",
    "              quantiles_list = [0.01,0.25,0.5, 0.75,0.8,0.85,0.9,0.95, 0.99])"
   ]
  },
  {
   "cell_type": "code",
   "execution_count": 94,
   "id": "295ed4f9",
   "metadata": {
    "colab": {
     "base_uri": "https://localhost:8080/"
    },
    "id": "295ed4f9",
    "outputId": "ff7289a9-e957-44c3-abda-fccb9b3bae68"
   },
   "outputs": [
    {
     "data": {
      "text/plain": [
       "26"
      ]
     },
     "execution_count": 94,
     "metadata": {},
     "output_type": "execute_result"
    }
   ],
   "source": [
    "# keep tags above 95 percentile\n",
    "top_rated_tags_df = top_rated_tags_df.filter(\"avg_user_rating > 4.53\")\n",
    "\n",
    "top_rated_tags_df.count()"
   ]
  },
  {
   "cell_type": "code",
   "execution_count": 95,
   "id": "66b654ad",
   "metadata": {
    "id": "66b654ad"
   },
   "outputs": [],
   "source": [
    "top_rated_tags_list = [data[0] for data in top_rated_tags_df.select('individual_tag').collect()]"
   ]
  },
  {
   "cell_type": "markdown",
   "id": "5cfe9edf",
   "metadata": {
    "id": "5cfe9edf"
   },
   "source": [
    "Check if any of the current tags have been added earlier"
   ]
  },
  {
   "cell_type": "code",
   "execution_count": 96,
   "id": "9b71bf00",
   "metadata": {
    "colab": {
     "base_uri": "https://localhost:8080/"
    },
    "id": "9b71bf00",
    "outputId": "fd513aa1-b3f6-4fff-8b50-9783c0689ca0"
   },
   "outputs": [
    {
     "data": {
      "text/plain": [
       "set()"
      ]
     },
     "execution_count": 96,
     "metadata": {},
     "output_type": "execute_result"
    }
   ],
   "source": [
    "set(top_frequent_tags_list) & set(top_rated_tags_list)"
   ]
  },
  {
   "cell_type": "code",
   "execution_count": 97,
   "id": "6e2c3905",
   "metadata": {
    "id": "6e2c3905"
   },
   "outputs": [],
   "source": [
    "all_added_columns_set = set(top_frequent_tags_list).union(set(top_rated_tags_list))"
   ]
  },
  {
   "cell_type": "code",
   "execution_count": 98,
   "id": "35283f1e",
   "metadata": {
    "colab": {
     "base_uri": "https://localhost:8080/"
    },
    "id": "35283f1e",
    "outputId": "df95f068-5387-4364-89f9-05905d70c113"
   },
   "outputs": [
    {
     "name": "stdout",
     "output_type": "stream",
     "text": [
      "added column: has_tag_ragu-recipe-contest\n",
      "added column: has_tag_simply-potatoes2\n",
      "added column: has_tag_non-alcoholic\n",
      "added column: has_tag_a1-sauce\n",
      "added column: has_tag_labor-day\n",
      "added column: has_tag_punch\n",
      "added column: has_tag_lettuces\n",
      "added column: has_tag_cocktails\n",
      "added column: has_tag_mashed-potatoes\n",
      "added column: has_tag_smoothies\n",
      "added column: has_tag_turkey-burgers\n",
      "added column: has_tag_avocado\n",
      "added column: has_tag_beverages\n",
      "added column: has_tag_mango\n",
      "added column: has_tag_asparagus\n",
      "added column: has_tag_memorial-day\n",
      "added column: has_tag_shakes\n",
      "added column: has_tag_strawberries\n",
      "added column: has_tag_omelets-and-frittatas\n",
      "added column: has_tag_salsas\n",
      "added column: has_tag_greek\n",
      "added column: has_tag_salads\n",
      "added column: has_tag_barbecue\n",
      "added column: has_tag_australian\n",
      "added column: has_tag_grilling\n",
      "added column: has_tag_polynesian\n"
     ]
    }
   ],
   "source": [
    "interaction_level_df = add_OHE_columns (interaction_level_df, top_rated_tags_list)"
   ]
  },
  {
   "cell_type": "markdown",
   "id": "de06488a",
   "metadata": {
    "id": "de06488a"
   },
   "source": [
    "### 3. Bottom ```n``` rated tags"
   ]
  },
  {
   "cell_type": "code",
   "execution_count": 99,
   "id": "b4845ed6",
   "metadata": {
    "id": "b4845ed6"
   },
   "outputs": [],
   "source": [
    "bottom_rated_tags_df = tags_ratings_summary.sort(F.col(\"avg_user_rating\").asc())"
   ]
  },
  {
   "cell_type": "code",
   "execution_count": 100,
   "id": "40dd7532",
   "metadata": {
    "colab": {
     "base_uri": "https://localhost:8080/"
    },
    "id": "40dd7532",
    "outputId": "6f1cc3b4-15df-4530-d8fc-7816665fe608"
   },
   "outputs": [
    {
     "data": {
      "text/plain": [
       "{0.0: 3.6742424242424243,\n",
       " 0.01: 3.962536023054755,\n",
       " 0.02: 4.054406964091403,\n",
       " 0.03: 4.096385542168675,\n",
       " 0.04: 4.126760563380282,\n",
       " 0.05: 4.171974522292993,\n",
       " 0.1: 4.238095238095238,\n",
       " 0.15: 4.303225806451613,\n",
       " 0.2: 4.325726141078838,\n",
       " 0.25: 4.344224006718102,\n",
       " 0.5: 4.403587357364895,\n",
       " 0.75: 4.451890903550206,\n",
       " 0.99: 4.609756097560975,\n",
       " 1.0: 4.822727272727272}"
      ]
     },
     "execution_count": 100,
     "metadata": {},
     "output_type": "execute_result"
    }
   ],
   "source": [
    "get_quantiles (bottom_rated_tags_df, \"avg_user_rating\", quantiles_list = [0.01, 0.02, 0.03, 0.04, 0.05, 0.1, 0.15, 0.2, 0.25, 0.5, 0.75, 0.99])"
   ]
  },
  {
   "cell_type": "code",
   "execution_count": 101,
   "id": "4369490a",
   "metadata": {
    "colab": {
     "base_uri": "https://localhost:8080/"
    },
    "id": "4369490a",
    "outputId": "71309aaa-5c23-4106-cb5e-8440b9fba26c"
   },
   "outputs": [
    {
     "data": {
      "text/plain": [
       "6"
      ]
     },
     "execution_count": 101,
     "metadata": {},
     "output_type": "execute_result"
    }
   ],
   "source": [
    "bottom_rated_tags_df = bottom_rated_tags_df.filter(\"avg_user_rating < 4.00\")\n",
    "\n",
    "bottom_rated_tags_df.count()"
   ]
  },
  {
   "cell_type": "code",
   "execution_count": 102,
   "id": "5013feae",
   "metadata": {
    "id": "5013feae"
   },
   "outputs": [],
   "source": [
    "bottom_rated_tags_list = [data[0] for data in bottom_rated_tags_df.select('individual_tag').collect()]"
   ]
  },
  {
   "cell_type": "code",
   "execution_count": 103,
   "id": "58964773",
   "metadata": {
    "colab": {
     "base_uri": "https://localhost:8080/"
    },
    "id": "58964773",
    "outputId": "6ea9d7d6-0a0e-4e23-8835-1cceae4a5ee7"
   },
   "outputs": [
    {
     "data": {
      "text/plain": [
       "set()"
      ]
     },
     "execution_count": 103,
     "metadata": {},
     "output_type": "execute_result"
    }
   ],
   "source": [
    "all_added_columns_set & set(bottom_rated_tags_list)"
   ]
  },
  {
   "cell_type": "code",
   "execution_count": 104,
   "id": "52a604fe",
   "metadata": {
    "colab": {
     "base_uri": "https://localhost:8080/"
    },
    "id": "52a604fe",
    "outputId": "8188ba5b-9b50-4276-ce52-95a192dcb856"
   },
   "outputs": [
    {
     "name": "stdout",
     "output_type": "stream",
     "text": [
      "added column: has_tag_pressure-canning\n",
      "added column: has_tag_honduran\n",
      "added column: has_tag_unprocessed-freezer\n",
      "added column: has_tag_birthday\n",
      "added column: has_tag_jellies\n",
      "added column: has_tag_water-bath\n"
     ]
    }
   ],
   "source": [
    "interaction_level_df =  add_OHE_columns(interaction_level_df, bottom_rated_tags_list)"
   ]
  },
  {
   "cell_type": "markdown",
   "id": "fedadf63",
   "metadata": {
    "id": "fedadf63"
   },
   "source": [
    "### Final DataFrame"
   ]
  },
  {
   "cell_type": "code",
   "execution_count": 105,
   "id": "e9a687f2",
   "metadata": {
    "colab": {
     "base_uri": "https://localhost:8080/"
    },
    "id": "e9a687f2",
    "outputId": "f8180c0d-ada7-4c4e-9b2a-5f3fb744a61d"
   },
   "outputs": [
    {
     "data": {
      "text/plain": [
       "148"
      ]
     },
     "execution_count": 105,
     "metadata": {},
     "output_type": "execute_result"
    }
   ],
   "source": [
    "len(interaction_level_df.columns)"
   ]
  },
  {
   "cell_type": "markdown",
   "id": "39c6a351",
   "metadata": {
    "id": "39c6a351"
   },
   "source": [
    "## Part 3: Summary Analysis Report"
   ]
  },
  {
   "cell_type": "markdown",
   "id": "6de34e8b",
   "metadata": {
    "id": "840a6eea"
   },
   "source": [
    "After performing the feature extraction and exploratory data analysis on the raw data, we can summarise the features that can be used to build the recipe recommendation system for the food recipe website `Food.com`. \n",
    "\n",
    "And using this recommendation engine will not only help in increasing the website's user engagement, more business opportunities like collaborations, promotions, etc. but will also help significantly impact the revenue growth of the company."
   ]
  },
  {
   "cell_type": "markdown",
   "id": "d8b8ad03",
   "metadata": {},
   "source": [
    "The major features and their effect on the rating on recipes are summarised as below:\n",
    "\n",
    "1. __years_since_submission_on_review_date:__  Review Time Since Submission (in Years)\n",
    "   - Recipes more than 6 years old are rated low\n",
    "   \n",
    "2. __minutes:__  Time (in minutes) it takes to prepare recipe\n",
    "   - Somewhat relevant\n",
    "   - Low prep time is preferred\n",
    "   \n",
    "3. __n_steps:__  Number of steps in the recipe\n",
    "   - Clearly relevant\n",
    "   - Recipes with less than 2 steps are rated high\n",
    "   - Recipes with more than 29 steps are rated very low\n",
    "   \n",
    "4. __Top n most rated tags:__ Based on number of user rated\n",
    "    - Easy, Occasion, cuisine, main-dish, oven, kid-friendly, vegitable, 60-minutes-or-less etc. \n",
    "    \n",
    "5. __Bottom n least rated tags:__ Based on number of user rated\n",
    "    - snack-sweet, lamp-sheep-main-dish, cranberry-sauce, roast-beef-main-dish, cabbage etc.\n",
    "\n",
    "6. __Top n rated tags:__ Based on average user rating\n",
    "    - ragu-recipe-contest, simply-potatoes, non-alcoholic, labour-day, cocktails, smoothies, beverages, snacks, salads etc.\n",
    "\n",
    "7. __Bottom n rated tags:__ Based on average user rating\n",
    "    - pressure-canning, honduran, unprocessed-freezer, birthday, jellies, water-bath etc."
   ]
  },
  {
   "cell_type": "code",
   "execution_count": null,
   "id": "31ac8bc7",
   "metadata": {},
   "outputs": [],
   "source": []
  }
 ],
 "metadata": {
  "colab": {
   "provenance": []
  },
  "kernelspec": {
   "display_name": "Python 3 (ipykernel)",
   "language": "python",
   "name": "python3"
  },
  "language_info": {
   "codemirror_mode": {
    "name": "ipython",
    "version": 3
   },
   "file_extension": ".py",
   "mimetype": "text/x-python",
   "name": "python",
   "nbconvert_exporter": "python",
   "pygments_lexer": "ipython3",
   "version": "3.11.5"
  }
 },
 "nbformat": 4,
 "nbformat_minor": 5
}
